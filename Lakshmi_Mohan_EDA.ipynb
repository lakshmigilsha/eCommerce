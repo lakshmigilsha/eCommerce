{
 "cells": [
  {
   "cell_type": "markdown",
   "id": "26b9fc12-3604-48ef-83b5-653d9a4e34c3",
   "metadata": {},
   "source": [
    "# Exploratory Data Analysis(EDA) on eCommerce Transactions Data"
   ]
  },
  {
   "cell_type": "markdown",
   "id": "beb34d3c-5a5e-41b9-841c-71d324932521",
   "metadata": {},
   "source": [
    "## Data Overview\n",
    "### 1. [Customers.csv](data/Customers.csv)\n",
    "- CustomerID: Unique identifier for each customer.\r",
    "-  CustomerName: Name of the customer\n",
    "- Region: Continent where the customer resides.\n",
    "- SignupDate: Date when the customer signed up.\n",
    "\r",
    "### 2. [Products.csv](data/Products.csv)\n",
    "- ProductID: Unique identifier for each product.\n",
    "- ProductName: Name of the product.\n",
    "- Category: Product category.\n",
    "- Price: Product price in UD.\n",
    "  \n",
    "### 3. [Transactions.csv](data/Transactions.csv)\n",
    "- TransactionID: Unique identifier for each transaction.\n",
    "- CustomerID: ID of the customer who made the transaction.\n",
    "- ProductID: ID of the product sold.\n",
    "- TransactionDate: Date of the transaction"
   ]
  },
  {
   "cell_type": "code",
   "execution_count": 111,
   "id": "3f1c64ed-2f40-4759-936d-49f718f7ffd9",
   "metadata": {},
   "outputs": [],
   "source": [
    "import pandas as pd\n",
    "import os\n",
    "import numpy as np\n",
    "import matplotlib.pyplot as plt\n",
    "%matplotlib inline\n",
    "import seaborn as sns\n",
    "color = sns.color_palette()"
   ]
  },
  {
   "cell_type": "code",
   "execution_count": 4,
   "id": "928d3249-73d3-47ba-94b3-76dbd0ab24e4",
   "metadata": {},
   "outputs": [],
   "source": [
    "#set the data folder's path\n",
    "data_path=\"data/\""
   ]
  },
  {
   "cell_type": "code",
   "execution_count": 5,
   "id": "6c876991-a661-40ff-8075-a7b1fd537c4a",
   "metadata": {},
   "outputs": [],
   "source": [
    "Customers_df=pd.read_csv(os.path.join(data_path,\"Customers.csv\"))\n",
    "Products_df=pd.read_csv(os.path.join(data_path,\"Products.csv\"))\n",
    "Transactions_df=pd.read_csv(os.path.join(data_path,\"Transactions.csv\"))"
   ]
  },
  {
   "cell_type": "code",
   "execution_count": 6,
   "id": "69ee136a-5ab2-44f3-994f-ccc9e1c64cb1",
   "metadata": {},
   "outputs": [
    {
     "data": {
      "text/html": [
       "<div>\n",
       "<style scoped>\n",
       "    .dataframe tbody tr th:only-of-type {\n",
       "        vertical-align: middle;\n",
       "    }\n",
       "\n",
       "    .dataframe tbody tr th {\n",
       "        vertical-align: top;\n",
       "    }\n",
       "\n",
       "    .dataframe thead th {\n",
       "        text-align: right;\n",
       "    }\n",
       "</style>\n",
       "<table border=\"1\" class=\"dataframe\">\n",
       "  <thead>\n",
       "    <tr style=\"text-align: right;\">\n",
       "      <th></th>\n",
       "      <th>CustomerID</th>\n",
       "      <th>CustomerName</th>\n",
       "      <th>Region</th>\n",
       "      <th>SignupDate</th>\n",
       "    </tr>\n",
       "  </thead>\n",
       "  <tbody>\n",
       "    <tr>\n",
       "      <th>0</th>\n",
       "      <td>C0001</td>\n",
       "      <td>Lawrence Carroll</td>\n",
       "      <td>South America</td>\n",
       "      <td>2022-07-10</td>\n",
       "    </tr>\n",
       "    <tr>\n",
       "      <th>1</th>\n",
       "      <td>C0002</td>\n",
       "      <td>Elizabeth Lutz</td>\n",
       "      <td>Asia</td>\n",
       "      <td>2022-02-13</td>\n",
       "    </tr>\n",
       "    <tr>\n",
       "      <th>2</th>\n",
       "      <td>C0003</td>\n",
       "      <td>Michael Rivera</td>\n",
       "      <td>South America</td>\n",
       "      <td>2024-03-07</td>\n",
       "    </tr>\n",
       "    <tr>\n",
       "      <th>3</th>\n",
       "      <td>C0004</td>\n",
       "      <td>Kathleen Rodriguez</td>\n",
       "      <td>South America</td>\n",
       "      <td>2022-10-09</td>\n",
       "    </tr>\n",
       "    <tr>\n",
       "      <th>4</th>\n",
       "      <td>C0005</td>\n",
       "      <td>Laura Weber</td>\n",
       "      <td>Asia</td>\n",
       "      <td>2022-08-15</td>\n",
       "    </tr>\n",
       "  </tbody>\n",
       "</table>\n",
       "</div>"
      ],
      "text/plain": [
       "  CustomerID        CustomerName         Region  SignupDate\n",
       "0      C0001    Lawrence Carroll  South America  2022-07-10\n",
       "1      C0002      Elizabeth Lutz           Asia  2022-02-13\n",
       "2      C0003      Michael Rivera  South America  2024-03-07\n",
       "3      C0004  Kathleen Rodriguez  South America  2022-10-09\n",
       "4      C0005         Laura Weber           Asia  2022-08-15"
      ]
     },
     "execution_count": 6,
     "metadata": {},
     "output_type": "execute_result"
    }
   ],
   "source": [
    "Customers_df.head()"
   ]
  },
  {
   "cell_type": "code",
   "execution_count": 7,
   "id": "a7c24063-9bb2-45bb-acc4-ad38f44206d9",
   "metadata": {},
   "outputs": [
    {
     "data": {
      "text/html": [
       "<div>\n",
       "<style scoped>\n",
       "    .dataframe tbody tr th:only-of-type {\n",
       "        vertical-align: middle;\n",
       "    }\n",
       "\n",
       "    .dataframe tbody tr th {\n",
       "        vertical-align: top;\n",
       "    }\n",
       "\n",
       "    .dataframe thead th {\n",
       "        text-align: right;\n",
       "    }\n",
       "</style>\n",
       "<table border=\"1\" class=\"dataframe\">\n",
       "  <thead>\n",
       "    <tr style=\"text-align: right;\">\n",
       "      <th></th>\n",
       "      <th>ProductID</th>\n",
       "      <th>ProductName</th>\n",
       "      <th>Category</th>\n",
       "      <th>Price</th>\n",
       "    </tr>\n",
       "  </thead>\n",
       "  <tbody>\n",
       "    <tr>\n",
       "      <th>0</th>\n",
       "      <td>P001</td>\n",
       "      <td>ActiveWear Biography</td>\n",
       "      <td>Books</td>\n",
       "      <td>169.30</td>\n",
       "    </tr>\n",
       "    <tr>\n",
       "      <th>1</th>\n",
       "      <td>P002</td>\n",
       "      <td>ActiveWear Smartwatch</td>\n",
       "      <td>Electronics</td>\n",
       "      <td>346.30</td>\n",
       "    </tr>\n",
       "    <tr>\n",
       "      <th>2</th>\n",
       "      <td>P003</td>\n",
       "      <td>ComfortLiving Biography</td>\n",
       "      <td>Books</td>\n",
       "      <td>44.12</td>\n",
       "    </tr>\n",
       "    <tr>\n",
       "      <th>3</th>\n",
       "      <td>P004</td>\n",
       "      <td>BookWorld Rug</td>\n",
       "      <td>Home Decor</td>\n",
       "      <td>95.69</td>\n",
       "    </tr>\n",
       "    <tr>\n",
       "      <th>4</th>\n",
       "      <td>P005</td>\n",
       "      <td>TechPro T-Shirt</td>\n",
       "      <td>Clothing</td>\n",
       "      <td>429.31</td>\n",
       "    </tr>\n",
       "  </tbody>\n",
       "</table>\n",
       "</div>"
      ],
      "text/plain": [
       "  ProductID              ProductName     Category   Price\n",
       "0      P001     ActiveWear Biography        Books  169.30\n",
       "1      P002    ActiveWear Smartwatch  Electronics  346.30\n",
       "2      P003  ComfortLiving Biography        Books   44.12\n",
       "3      P004            BookWorld Rug   Home Decor   95.69\n",
       "4      P005          TechPro T-Shirt     Clothing  429.31"
      ]
     },
     "execution_count": 7,
     "metadata": {},
     "output_type": "execute_result"
    }
   ],
   "source": [
    "Products_df.head()"
   ]
  },
  {
   "cell_type": "code",
   "execution_count": 8,
   "id": "46cfdd46-74d2-47af-beff-04889f869d7d",
   "metadata": {},
   "outputs": [
    {
     "data": {
      "text/html": [
       "<div>\n",
       "<style scoped>\n",
       "    .dataframe tbody tr th:only-of-type {\n",
       "        vertical-align: middle;\n",
       "    }\n",
       "\n",
       "    .dataframe tbody tr th {\n",
       "        vertical-align: top;\n",
       "    }\n",
       "\n",
       "    .dataframe thead th {\n",
       "        text-align: right;\n",
       "    }\n",
       "</style>\n",
       "<table border=\"1\" class=\"dataframe\">\n",
       "  <thead>\n",
       "    <tr style=\"text-align: right;\">\n",
       "      <th></th>\n",
       "      <th>TransactionID</th>\n",
       "      <th>CustomerID</th>\n",
       "      <th>ProductID</th>\n",
       "      <th>TransactionDate</th>\n",
       "      <th>Quantity</th>\n",
       "      <th>TotalValue</th>\n",
       "      <th>Price</th>\n",
       "    </tr>\n",
       "  </thead>\n",
       "  <tbody>\n",
       "    <tr>\n",
       "      <th>995</th>\n",
       "      <td>T00496</td>\n",
       "      <td>C0118</td>\n",
       "      <td>P037</td>\n",
       "      <td>2024-10-24 08:30:27</td>\n",
       "      <td>1</td>\n",
       "      <td>459.86</td>\n",
       "      <td>459.86</td>\n",
       "    </tr>\n",
       "    <tr>\n",
       "      <th>996</th>\n",
       "      <td>T00759</td>\n",
       "      <td>C0059</td>\n",
       "      <td>P037</td>\n",
       "      <td>2024-06-04 02:15:24</td>\n",
       "      <td>3</td>\n",
       "      <td>1379.58</td>\n",
       "      <td>459.86</td>\n",
       "    </tr>\n",
       "    <tr>\n",
       "      <th>997</th>\n",
       "      <td>T00922</td>\n",
       "      <td>C0018</td>\n",
       "      <td>P037</td>\n",
       "      <td>2024-04-05 13:05:32</td>\n",
       "      <td>4</td>\n",
       "      <td>1839.44</td>\n",
       "      <td>459.86</td>\n",
       "    </tr>\n",
       "    <tr>\n",
       "      <th>998</th>\n",
       "      <td>T00959</td>\n",
       "      <td>C0115</td>\n",
       "      <td>P037</td>\n",
       "      <td>2024-09-29 10:16:02</td>\n",
       "      <td>2</td>\n",
       "      <td>919.72</td>\n",
       "      <td>459.86</td>\n",
       "    </tr>\n",
       "    <tr>\n",
       "      <th>999</th>\n",
       "      <td>T00992</td>\n",
       "      <td>C0024</td>\n",
       "      <td>P037</td>\n",
       "      <td>2024-04-21 10:52:24</td>\n",
       "      <td>1</td>\n",
       "      <td>459.86</td>\n",
       "      <td>459.86</td>\n",
       "    </tr>\n",
       "  </tbody>\n",
       "</table>\n",
       "</div>"
      ],
      "text/plain": [
       "    TransactionID CustomerID ProductID      TransactionDate  Quantity  \\\n",
       "995        T00496      C0118      P037  2024-10-24 08:30:27         1   \n",
       "996        T00759      C0059      P037  2024-06-04 02:15:24         3   \n",
       "997        T00922      C0018      P037  2024-04-05 13:05:32         4   \n",
       "998        T00959      C0115      P037  2024-09-29 10:16:02         2   \n",
       "999        T00992      C0024      P037  2024-04-21 10:52:24         1   \n",
       "\n",
       "     TotalValue   Price  \n",
       "995      459.86  459.86  \n",
       "996     1379.58  459.86  \n",
       "997     1839.44  459.86  \n",
       "998      919.72  459.86  \n",
       "999      459.86  459.86  "
      ]
     },
     "execution_count": 8,
     "metadata": {},
     "output_type": "execute_result"
    }
   ],
   "source": [
    "Transactions_df.tail()"
   ]
  },
  {
   "cell_type": "markdown",
   "id": "4b8c3c3b-1a0a-4d6c-a6c2-151899a430bc",
   "metadata": {},
   "source": [
    "## Data Cleaning "
   ]
  },
  {
   "cell_type": "code",
   "execution_count": 9,
   "id": "d5fa9f59-9b6b-4fa4-97cb-efb73ba57bcf",
   "metadata": {},
   "outputs": [
    {
     "name": "stdout",
     "output_type": "stream",
     "text": [
      "<class 'pandas.core.frame.DataFrame'>\n",
      "RangeIndex: 200 entries, 0 to 199\n",
      "Data columns (total 4 columns):\n",
      " #   Column        Non-Null Count  Dtype \n",
      "---  ------        --------------  ----- \n",
      " 0   CustomerID    200 non-null    object\n",
      " 1   CustomerName  200 non-null    object\n",
      " 2   Region        200 non-null    object\n",
      " 3   SignupDate    200 non-null    object\n",
      "dtypes: object(4)\n",
      "memory usage: 6.4+ KB\n"
     ]
    }
   ],
   "source": [
    "Customers_df.info()"
   ]
  },
  {
   "cell_type": "code",
   "execution_count": 10,
   "id": "5e638d82-ff6e-4903-96a3-e70ca8df095c",
   "metadata": {},
   "outputs": [],
   "source": [
    "#change SignupDate - object to Timestamp\n",
    "Customers_df['SignupDate']=pd.to_datetime(Customers_df['SignupDate'])"
   ]
  },
  {
   "cell_type": "code",
   "execution_count": 11,
   "id": "e146a5ff-b5ee-401a-b720-04d24827fd7c",
   "metadata": {},
   "outputs": [
    {
     "name": "stdout",
     "output_type": "stream",
     "text": [
      "<class 'pandas.core.frame.DataFrame'>\n",
      "RangeIndex: 200 entries, 0 to 199\n",
      "Data columns (total 4 columns):\n",
      " #   Column        Non-Null Count  Dtype         \n",
      "---  ------        --------------  -----         \n",
      " 0   CustomerID    200 non-null    object        \n",
      " 1   CustomerName  200 non-null    object        \n",
      " 2   Region        200 non-null    object        \n",
      " 3   SignupDate    200 non-null    datetime64[ns]\n",
      "dtypes: datetime64[ns](1), object(3)\n",
      "memory usage: 6.4+ KB\n"
     ]
    }
   ],
   "source": [
    "Customers_df.info()"
   ]
  },
  {
   "cell_type": "code",
   "execution_count": 12,
   "id": "8528cc34-2cbc-4049-9a20-36e0a4240994",
   "metadata": {},
   "outputs": [
    {
     "name": "stdout",
     "output_type": "stream",
     "text": [
      "<class 'pandas.core.frame.DataFrame'>\n",
      "RangeIndex: 100 entries, 0 to 99\n",
      "Data columns (total 4 columns):\n",
      " #   Column       Non-Null Count  Dtype  \n",
      "---  ------       --------------  -----  \n",
      " 0   ProductID    100 non-null    object \n",
      " 1   ProductName  100 non-null    object \n",
      " 2   Category     100 non-null    object \n",
      " 3   Price        100 non-null    float64\n",
      "dtypes: float64(1), object(3)\n",
      "memory usage: 3.3+ KB\n"
     ]
    }
   ],
   "source": [
    "Products_df.info()"
   ]
  },
  {
   "cell_type": "code",
   "execution_count": 13,
   "id": "2eec9503-9c47-45af-8ca3-688cc48374f2",
   "metadata": {},
   "outputs": [
    {
     "name": "stdout",
     "output_type": "stream",
     "text": [
      "4\n"
     ]
    }
   ],
   "source": [
    "#check count of unique values in Category\n",
    "print(Products_df['Category'].nunique())"
   ]
  },
  {
   "cell_type": "code",
   "execution_count": 14,
   "id": "7e9b6d8f-a2ef-4762-8b36-2e766a43fd2e",
   "metadata": {},
   "outputs": [],
   "source": [
    "#change Category - object to category \n",
    "Products_df['Category']=Products_df['Category'].astype('category')"
   ]
  },
  {
   "cell_type": "code",
   "execution_count": 15,
   "id": "51b57ff2-0812-4719-8e47-c4ab67fbb3f4",
   "metadata": {},
   "outputs": [
    {
     "name": "stdout",
     "output_type": "stream",
     "text": [
      "<class 'pandas.core.frame.DataFrame'>\n",
      "RangeIndex: 100 entries, 0 to 99\n",
      "Data columns (total 4 columns):\n",
      " #   Column       Non-Null Count  Dtype   \n",
      "---  ------       --------------  -----   \n",
      " 0   ProductID    100 non-null    object  \n",
      " 1   ProductName  100 non-null    object  \n",
      " 2   Category     100 non-null    category\n",
      " 3   Price        100 non-null    float64 \n",
      "dtypes: category(1), float64(1), object(2)\n",
      "memory usage: 2.8+ KB\n"
     ]
    }
   ],
   "source": [
    "Products_df.info()"
   ]
  },
  {
   "cell_type": "code",
   "execution_count": 16,
   "id": "1d435510-6405-41cc-976f-bef35247163c",
   "metadata": {},
   "outputs": [
    {
     "name": "stdout",
     "output_type": "stream",
     "text": [
      "<class 'pandas.core.frame.DataFrame'>\n",
      "RangeIndex: 1000 entries, 0 to 999\n",
      "Data columns (total 7 columns):\n",
      " #   Column           Non-Null Count  Dtype  \n",
      "---  ------           --------------  -----  \n",
      " 0   TransactionID    1000 non-null   object \n",
      " 1   CustomerID       1000 non-null   object \n",
      " 2   ProductID        1000 non-null   object \n",
      " 3   TransactionDate  1000 non-null   object \n",
      " 4   Quantity         1000 non-null   int64  \n",
      " 5   TotalValue       1000 non-null   float64\n",
      " 6   Price            1000 non-null   float64\n",
      "dtypes: float64(2), int64(1), object(4)\n",
      "memory usage: 54.8+ KB\n"
     ]
    }
   ],
   "source": [
    "Transactions_df.info()"
   ]
  },
  {
   "cell_type": "code",
   "execution_count": 17,
   "id": "6972ea61-0007-4980-aa33-84307c4cfb2b",
   "metadata": {},
   "outputs": [],
   "source": [
    "#change TransactionDate - object to Timestamp\n",
    "Transactions_df['TransactionDate']=pd.to_datetime(Transactions_df['TransactionDate'])"
   ]
  },
  {
   "cell_type": "code",
   "execution_count": 18,
   "id": "21c0f75b-3611-4828-b803-b2a808c8aeba",
   "metadata": {},
   "outputs": [
    {
     "name": "stdout",
     "output_type": "stream",
     "text": [
      "<class 'pandas.core.frame.DataFrame'>\n",
      "RangeIndex: 1000 entries, 0 to 999\n",
      "Data columns (total 7 columns):\n",
      " #   Column           Non-Null Count  Dtype         \n",
      "---  ------           --------------  -----         \n",
      " 0   TransactionID    1000 non-null   object        \n",
      " 1   CustomerID       1000 non-null   object        \n",
      " 2   ProductID        1000 non-null   object        \n",
      " 3   TransactionDate  1000 non-null   datetime64[ns]\n",
      " 4   Quantity         1000 non-null   int64         \n",
      " 5   TotalValue       1000 non-null   float64       \n",
      " 6   Price            1000 non-null   float64       \n",
      "dtypes: datetime64[ns](1), float64(2), int64(1), object(3)\n",
      "memory usage: 54.8+ KB\n"
     ]
    }
   ],
   "source": [
    "Transactions_df.info()"
   ]
  },
  {
   "cell_type": "code",
   "execution_count": 19,
   "id": "1ab3f83f-1ccf-4a38-aeca-8d922a3c537c",
   "metadata": {},
   "outputs": [
    {
     "data": {
      "text/html": [
       "<div>\n",
       "<style scoped>\n",
       "    .dataframe tbody tr th:only-of-type {\n",
       "        vertical-align: middle;\n",
       "    }\n",
       "\n",
       "    .dataframe tbody tr th {\n",
       "        vertical-align: top;\n",
       "    }\n",
       "\n",
       "    .dataframe thead th {\n",
       "        text-align: right;\n",
       "    }\n",
       "</style>\n",
       "<table border=\"1\" class=\"dataframe\">\n",
       "  <thead>\n",
       "    <tr style=\"text-align: right;\">\n",
       "      <th></th>\n",
       "      <th>Price</th>\n",
       "    </tr>\n",
       "  </thead>\n",
       "  <tbody>\n",
       "    <tr>\n",
       "      <th>count</th>\n",
       "      <td>100.00</td>\n",
       "    </tr>\n",
       "    <tr>\n",
       "      <th>mean</th>\n",
       "      <td>267.55</td>\n",
       "    </tr>\n",
       "    <tr>\n",
       "      <th>std</th>\n",
       "      <td>143.22</td>\n",
       "    </tr>\n",
       "    <tr>\n",
       "      <th>min</th>\n",
       "      <td>16.08</td>\n",
       "    </tr>\n",
       "    <tr>\n",
       "      <th>25%</th>\n",
       "      <td>147.77</td>\n",
       "    </tr>\n",
       "    <tr>\n",
       "      <th>50%</th>\n",
       "      <td>292.88</td>\n",
       "    </tr>\n",
       "    <tr>\n",
       "      <th>75%</th>\n",
       "      <td>397.09</td>\n",
       "    </tr>\n",
       "    <tr>\n",
       "      <th>max</th>\n",
       "      <td>497.76</td>\n",
       "    </tr>\n",
       "  </tbody>\n",
       "</table>\n",
       "</div>"
      ],
      "text/plain": [
       "        Price\n",
       "count  100.00\n",
       "mean   267.55\n",
       "std    143.22\n",
       "min     16.08\n",
       "25%    147.77\n",
       "50%    292.88\n",
       "75%    397.09\n",
       "max    497.76"
      ]
     },
     "execution_count": 19,
     "metadata": {},
     "output_type": "execute_result"
    }
   ],
   "source": [
    "Products_df.describe().round(2)"
   ]
  },
  {
   "cell_type": "code",
   "execution_count": 20,
   "id": "ed5c4b9f-fab0-4fec-98e9-8cef7daf2663",
   "metadata": {},
   "outputs": [
    {
     "data": {
      "text/html": [
       "<div>\n",
       "<style scoped>\n",
       "    .dataframe tbody tr th:only-of-type {\n",
       "        vertical-align: middle;\n",
       "    }\n",
       "\n",
       "    .dataframe tbody tr th {\n",
       "        vertical-align: top;\n",
       "    }\n",
       "\n",
       "    .dataframe thead th {\n",
       "        text-align: right;\n",
       "    }\n",
       "</style>\n",
       "<table border=\"1\" class=\"dataframe\">\n",
       "  <thead>\n",
       "    <tr style=\"text-align: right;\">\n",
       "      <th></th>\n",
       "      <th>TransactionDate</th>\n",
       "      <th>Quantity</th>\n",
       "      <th>TotalValue</th>\n",
       "      <th>Price</th>\n",
       "    </tr>\n",
       "  </thead>\n",
       "  <tbody>\n",
       "    <tr>\n",
       "      <th>count</th>\n",
       "      <td>1000</td>\n",
       "      <td>1000.00</td>\n",
       "      <td>1000.00</td>\n",
       "      <td>1000.00</td>\n",
       "    </tr>\n",
       "    <tr>\n",
       "      <th>mean</th>\n",
       "      <td>2024-06-23 15:33:02.768999936</td>\n",
       "      <td>2.54</td>\n",
       "      <td>690.00</td>\n",
       "      <td>272.55</td>\n",
       "    </tr>\n",
       "    <tr>\n",
       "      <th>min</th>\n",
       "      <td>2023-12-30 15:29:12</td>\n",
       "      <td>1.00</td>\n",
       "      <td>16.08</td>\n",
       "      <td>16.08</td>\n",
       "    </tr>\n",
       "    <tr>\n",
       "      <th>25%</th>\n",
       "      <td>2024-03-25 22:05:34.500000</td>\n",
       "      <td>2.00</td>\n",
       "      <td>295.29</td>\n",
       "      <td>147.95</td>\n",
       "    </tr>\n",
       "    <tr>\n",
       "      <th>50%</th>\n",
       "      <td>2024-06-26 17:21:52.500000</td>\n",
       "      <td>3.00</td>\n",
       "      <td>588.88</td>\n",
       "      <td>299.93</td>\n",
       "    </tr>\n",
       "    <tr>\n",
       "      <th>75%</th>\n",
       "      <td>2024-09-19 14:19:57</td>\n",
       "      <td>4.00</td>\n",
       "      <td>1011.66</td>\n",
       "      <td>404.40</td>\n",
       "    </tr>\n",
       "    <tr>\n",
       "      <th>max</th>\n",
       "      <td>2024-12-28 11:00:00</td>\n",
       "      <td>4.00</td>\n",
       "      <td>1991.04</td>\n",
       "      <td>497.76</td>\n",
       "    </tr>\n",
       "    <tr>\n",
       "      <th>std</th>\n",
       "      <td>NaN</td>\n",
       "      <td>1.12</td>\n",
       "      <td>493.14</td>\n",
       "      <td>140.74</td>\n",
       "    </tr>\n",
       "  </tbody>\n",
       "</table>\n",
       "</div>"
      ],
      "text/plain": [
       "                     TransactionDate  Quantity  TotalValue    Price\n",
       "count                           1000   1000.00     1000.00  1000.00\n",
       "mean   2024-06-23 15:33:02.768999936      2.54      690.00   272.55\n",
       "min              2023-12-30 15:29:12      1.00       16.08    16.08\n",
       "25%       2024-03-25 22:05:34.500000      2.00      295.29   147.95\n",
       "50%       2024-06-26 17:21:52.500000      3.00      588.88   299.93\n",
       "75%              2024-09-19 14:19:57      4.00     1011.66   404.40\n",
       "max              2024-12-28 11:00:00      4.00     1991.04   497.76\n",
       "std                              NaN      1.12      493.14   140.74"
      ]
     },
     "execution_count": 20,
     "metadata": {},
     "output_type": "execute_result"
    }
   ],
   "source": [
    "Transactions_df.describe().round(2)"
   ]
  },
  {
   "cell_type": "markdown",
   "id": "d016469b-2f93-416a-82c1-457ab2e4c4dc",
   "metadata": {},
   "source": [
    "## Merging Dataframes\n",
    "\n"
   ]
  },
  {
   "cell_type": "code",
   "execution_count": 27,
   "id": "04443dd5-340b-4b8d-81d8-208a3b911e8e",
   "metadata": {},
   "outputs": [],
   "source": [
    "new_df=Transactions_df.merge(Customers_df,on='CustomerID',how='left').merge(Products_df,on='ProductID',how='left')"
   ]
  },
  {
   "cell_type": "code",
   "execution_count": 28,
   "id": "1e3b314d-ff18-4b28-bb34-5eb0b28c6c63",
   "metadata": {},
   "outputs": [
    {
     "data": {
      "text/html": [
       "<div>\n",
       "<style scoped>\n",
       "    .dataframe tbody tr th:only-of-type {\n",
       "        vertical-align: middle;\n",
       "    }\n",
       "\n",
       "    .dataframe tbody tr th {\n",
       "        vertical-align: top;\n",
       "    }\n",
       "\n",
       "    .dataframe thead th {\n",
       "        text-align: right;\n",
       "    }\n",
       "</style>\n",
       "<table border=\"1\" class=\"dataframe\">\n",
       "  <thead>\n",
       "    <tr style=\"text-align: right;\">\n",
       "      <th></th>\n",
       "      <th>TransactionID</th>\n",
       "      <th>CustomerID</th>\n",
       "      <th>ProductID</th>\n",
       "      <th>TransactionDate</th>\n",
       "      <th>Quantity</th>\n",
       "      <th>TotalValue</th>\n",
       "      <th>Price_x</th>\n",
       "      <th>CustomerName</th>\n",
       "      <th>Region</th>\n",
       "      <th>SignupDate</th>\n",
       "      <th>ProductName</th>\n",
       "      <th>Category</th>\n",
       "      <th>Price_y</th>\n",
       "    </tr>\n",
       "  </thead>\n",
       "  <tbody>\n",
       "    <tr>\n",
       "      <th>0</th>\n",
       "      <td>T00015</td>\n",
       "      <td>C0001</td>\n",
       "      <td>P054</td>\n",
       "      <td>2024-01-19 03:12:55</td>\n",
       "      <td>2.0</td>\n",
       "      <td>114.60</td>\n",
       "      <td>57.30</td>\n",
       "      <td>Lawrence Carroll</td>\n",
       "      <td>South America</td>\n",
       "      <td>2022-07-10</td>\n",
       "      <td>SoundWave Cookbook</td>\n",
       "      <td>Books</td>\n",
       "      <td>57.30</td>\n",
       "    </tr>\n",
       "    <tr>\n",
       "      <th>1</th>\n",
       "      <td>T00932</td>\n",
       "      <td>C0001</td>\n",
       "      <td>P022</td>\n",
       "      <td>2024-09-17 09:01:18</td>\n",
       "      <td>3.0</td>\n",
       "      <td>412.62</td>\n",
       "      <td>137.54</td>\n",
       "      <td>Lawrence Carroll</td>\n",
       "      <td>South America</td>\n",
       "      <td>2022-07-10</td>\n",
       "      <td>HomeSense Wall Art</td>\n",
       "      <td>Home Decor</td>\n",
       "      <td>137.54</td>\n",
       "    </tr>\n",
       "    <tr>\n",
       "      <th>2</th>\n",
       "      <td>T00085</td>\n",
       "      <td>C0001</td>\n",
       "      <td>P096</td>\n",
       "      <td>2024-04-08 00:01:00</td>\n",
       "      <td>2.0</td>\n",
       "      <td>614.94</td>\n",
       "      <td>307.47</td>\n",
       "      <td>Lawrence Carroll</td>\n",
       "      <td>South America</td>\n",
       "      <td>2022-07-10</td>\n",
       "      <td>SoundWave Headphones</td>\n",
       "      <td>Electronics</td>\n",
       "      <td>307.47</td>\n",
       "    </tr>\n",
       "    <tr>\n",
       "      <th>3</th>\n",
       "      <td>T00445</td>\n",
       "      <td>C0001</td>\n",
       "      <td>P083</td>\n",
       "      <td>2024-05-07 03:11:44</td>\n",
       "      <td>2.0</td>\n",
       "      <td>911.44</td>\n",
       "      <td>455.72</td>\n",
       "      <td>Lawrence Carroll</td>\n",
       "      <td>South America</td>\n",
       "      <td>2022-07-10</td>\n",
       "      <td>ActiveWear Smartwatch</td>\n",
       "      <td>Electronics</td>\n",
       "      <td>455.72</td>\n",
       "    </tr>\n",
       "    <tr>\n",
       "      <th>4</th>\n",
       "      <td>T00436</td>\n",
       "      <td>C0001</td>\n",
       "      <td>P029</td>\n",
       "      <td>2024-11-02 17:04:16</td>\n",
       "      <td>3.0</td>\n",
       "      <td>1300.92</td>\n",
       "      <td>433.64</td>\n",
       "      <td>Lawrence Carroll</td>\n",
       "      <td>South America</td>\n",
       "      <td>2022-07-10</td>\n",
       "      <td>TechPro Headphones</td>\n",
       "      <td>Electronics</td>\n",
       "      <td>433.64</td>\n",
       "    </tr>\n",
       "  </tbody>\n",
       "</table>\n",
       "</div>"
      ],
      "text/plain": [
       "  TransactionID CustomerID ProductID     TransactionDate  Quantity  \\\n",
       "0        T00015      C0001      P054 2024-01-19 03:12:55       2.0   \n",
       "1        T00932      C0001      P022 2024-09-17 09:01:18       3.0   \n",
       "2        T00085      C0001      P096 2024-04-08 00:01:00       2.0   \n",
       "3        T00445      C0001      P083 2024-05-07 03:11:44       2.0   \n",
       "4        T00436      C0001      P029 2024-11-02 17:04:16       3.0   \n",
       "\n",
       "   TotalValue  Price_x      CustomerName         Region SignupDate  \\\n",
       "0      114.60    57.30  Lawrence Carroll  South America 2022-07-10   \n",
       "1      412.62   137.54  Lawrence Carroll  South America 2022-07-10   \n",
       "2      614.94   307.47  Lawrence Carroll  South America 2022-07-10   \n",
       "3      911.44   455.72  Lawrence Carroll  South America 2022-07-10   \n",
       "4     1300.92   433.64  Lawrence Carroll  South America 2022-07-10   \n",
       "\n",
       "             ProductName     Category  Price_y  \n",
       "0     SoundWave Cookbook        Books    57.30  \n",
       "1     HomeSense Wall Art   Home Decor   137.54  \n",
       "2   SoundWave Headphones  Electronics   307.47  \n",
       "3  ActiveWear Smartwatch  Electronics   455.72  \n",
       "4     TechPro Headphones  Electronics   433.64  "
      ]
     },
     "execution_count": 28,
     "metadata": {},
     "output_type": "execute_result"
    }
   ],
   "source": [
    "new_df.head()"
   ]
  },
  {
   "cell_type": "code",
   "execution_count": 31,
   "id": "e2f515a1-10ef-4498-9052-aeb420ec7bdf",
   "metadata": {},
   "outputs": [
    {
     "data": {
      "text/plain": [
       "False"
      ]
     },
     "execution_count": 31,
     "metadata": {},
     "output_type": "execute_result"
    }
   ],
   "source": [
    "#verify price_x and price_y are same\n",
    "(new_df['Price_x']==new_df['Price_y']).all()"
   ]
  },
  {
   "cell_type": "code",
   "execution_count": 34,
   "id": "fcc0de52-d377-427f-b367-813f1d17d0ff",
   "metadata": {},
   "outputs": [
    {
     "data": {
      "text/html": [
       "<div>\n",
       "<style scoped>\n",
       "    .dataframe tbody tr th:only-of-type {\n",
       "        vertical-align: middle;\n",
       "    }\n",
       "\n",
       "    .dataframe tbody tr th {\n",
       "        vertical-align: top;\n",
       "    }\n",
       "\n",
       "    .dataframe thead th {\n",
       "        text-align: right;\n",
       "    }\n",
       "</style>\n",
       "<table border=\"1\" class=\"dataframe\">\n",
       "  <thead>\n",
       "    <tr style=\"text-align: right;\">\n",
       "      <th></th>\n",
       "      <th>TransactionID</th>\n",
       "      <th>CustomerID</th>\n",
       "      <th>ProductID</th>\n",
       "      <th>TransactionDate</th>\n",
       "      <th>Quantity</th>\n",
       "      <th>TotalValue</th>\n",
       "      <th>Price_x</th>\n",
       "      <th>CustomerName</th>\n",
       "      <th>Region</th>\n",
       "      <th>SignupDate</th>\n",
       "      <th>ProductName</th>\n",
       "      <th>Category</th>\n",
       "      <th>Price_y</th>\n",
       "    </tr>\n",
       "  </thead>\n",
       "  <tbody>\n",
       "    <tr>\n",
       "      <th>904</th>\n",
       "      <td>NaN</td>\n",
       "      <td>C0180</td>\n",
       "      <td>NaN</td>\n",
       "      <td>NaT</td>\n",
       "      <td>NaN</td>\n",
       "      <td>NaN</td>\n",
       "      <td>NaN</td>\n",
       "      <td>Amy Carpenter</td>\n",
       "      <td>Asia</td>\n",
       "      <td>2023-10-25</td>\n",
       "      <td>NaN</td>\n",
       "      <td>NaN</td>\n",
       "      <td>NaN</td>\n",
       "    </tr>\n",
       "  </tbody>\n",
       "</table>\n",
       "</div>"
      ],
      "text/plain": [
       "    TransactionID CustomerID ProductID TransactionDate  Quantity  TotalValue  \\\n",
       "904           NaN      C0180       NaN             NaT       NaN         NaN   \n",
       "\n",
       "     Price_x   CustomerName Region SignupDate ProductName Category  Price_y  \n",
       "904      NaN  Amy Carpenter   Asia 2023-10-25         NaN      NaN      NaN  "
      ]
     },
     "execution_count": 34,
     "metadata": {},
     "output_type": "execute_result"
    }
   ],
   "source": [
    "new_df[new_df['Price_x'] != new_df['Price_y']]\n"
   ]
  },
  {
   "cell_type": "code",
   "execution_count": 35,
   "id": "a8e65983-07e0-42c9-a00d-d39dbd73cd70",
   "metadata": {},
   "outputs": [
    {
     "name": "stdout",
     "output_type": "stream",
     "text": [
      "<class 'pandas.core.frame.DataFrame'>\n",
      "RangeIndex: 1001 entries, 0 to 1000\n",
      "Data columns (total 13 columns):\n",
      " #   Column           Non-Null Count  Dtype         \n",
      "---  ------           --------------  -----         \n",
      " 0   TransactionID    1000 non-null   object        \n",
      " 1   CustomerID       1001 non-null   object        \n",
      " 2   ProductID        1000 non-null   object        \n",
      " 3   TransactionDate  1000 non-null   datetime64[ns]\n",
      " 4   Quantity         1000 non-null   float64       \n",
      " 5   TotalValue       1000 non-null   float64       \n",
      " 6   Price_x          1000 non-null   float64       \n",
      " 7   CustomerName     1001 non-null   object        \n",
      " 8   Region           1001 non-null   object        \n",
      " 9   SignupDate       1001 non-null   datetime64[ns]\n",
      " 10  ProductName      1000 non-null   object        \n",
      " 11  Category         1000 non-null   category      \n",
      " 12  Price_y          1000 non-null   float64       \n",
      "dtypes: category(1), datetime64[ns](2), float64(4), object(6)\n",
      "memory usage: 95.1+ KB\n"
     ]
    }
   ],
   "source": [
    "new_df.info()"
   ]
  },
  {
   "cell_type": "code",
   "execution_count": 36,
   "id": "48541ebb-0d57-4937-bc9b-a3c1f5828298",
   "metadata": {},
   "outputs": [
    {
     "data": {
      "text/plain": [
       "TransactionID      1\n",
       "CustomerID         0\n",
       "ProductID          1\n",
       "TransactionDate    1\n",
       "Quantity           1\n",
       "TotalValue         1\n",
       "Price_x            1\n",
       "CustomerName       0\n",
       "Region             0\n",
       "SignupDate         0\n",
       "ProductName        1\n",
       "Category           1\n",
       "Price_y            1\n",
       "dtype: int64"
      ]
     },
     "execution_count": 36,
     "metadata": {},
     "output_type": "execute_result"
    }
   ],
   "source": [
    "new_df.isnull().sum()"
   ]
  },
  {
   "cell_type": "code",
   "execution_count": 39,
   "id": "d6309a33-065a-41c8-bbff-634aa94656e6",
   "metadata": {},
   "outputs": [
    {
     "data": {
      "text/html": [
       "<div>\n",
       "<style scoped>\n",
       "    .dataframe tbody tr th:only-of-type {\n",
       "        vertical-align: middle;\n",
       "    }\n",
       "\n",
       "    .dataframe tbody tr th {\n",
       "        vertical-align: top;\n",
       "    }\n",
       "\n",
       "    .dataframe thead th {\n",
       "        text-align: right;\n",
       "    }\n",
       "</style>\n",
       "<table border=\"1\" class=\"dataframe\">\n",
       "  <thead>\n",
       "    <tr style=\"text-align: right;\">\n",
       "      <th></th>\n",
       "      <th>TransactionID</th>\n",
       "      <th>CustomerID</th>\n",
       "      <th>ProductID</th>\n",
       "      <th>TransactionDate</th>\n",
       "      <th>Quantity</th>\n",
       "      <th>TotalValue</th>\n",
       "      <th>Price_x</th>\n",
       "      <th>CustomerName</th>\n",
       "      <th>Region</th>\n",
       "      <th>SignupDate</th>\n",
       "      <th>ProductName</th>\n",
       "      <th>Category</th>\n",
       "      <th>Price_y</th>\n",
       "    </tr>\n",
       "  </thead>\n",
       "  <tbody>\n",
       "    <tr>\n",
       "      <th>904</th>\n",
       "      <td>NaN</td>\n",
       "      <td>C0180</td>\n",
       "      <td>NaN</td>\n",
       "      <td>NaT</td>\n",
       "      <td>NaN</td>\n",
       "      <td>NaN</td>\n",
       "      <td>NaN</td>\n",
       "      <td>Amy Carpenter</td>\n",
       "      <td>Asia</td>\n",
       "      <td>2023-10-25</td>\n",
       "      <td>NaN</td>\n",
       "      <td>NaN</td>\n",
       "      <td>NaN</td>\n",
       "    </tr>\n",
       "  </tbody>\n",
       "</table>\n",
       "</div>"
      ],
      "text/plain": [
       "    TransactionID CustomerID ProductID TransactionDate  Quantity  TotalValue  \\\n",
       "904           NaN      C0180       NaN             NaT       NaN         NaN   \n",
       "\n",
       "     Price_x   CustomerName Region SignupDate ProductName Category  Price_y  \n",
       "904      NaN  Amy Carpenter   Asia 2023-10-25         NaN      NaN      NaN  "
      ]
     },
     "execution_count": 39,
     "metadata": {},
     "output_type": "execute_result"
    }
   ],
   "source": [
    "#checkout the rows with missing values\n",
    "new_df[new_df.isnull().any(axis=1)].head()"
   ]
  },
  {
   "cell_type": "code",
   "execution_count": 41,
   "id": "d9dc0a39-5cf8-4e14-a10f-e5ed658dce59",
   "metadata": {},
   "outputs": [],
   "source": [
    "#removing the row with null values\n",
    "final_df=new_df.dropna()"
   ]
  },
  {
   "cell_type": "code",
   "execution_count": 43,
   "id": "fa6cb11c-1197-402e-8fbc-656422561f0f",
   "metadata": {},
   "outputs": [
    {
     "data": {
      "text/plain": [
       "TransactionID      0\n",
       "CustomerID         0\n",
       "ProductID          0\n",
       "TransactionDate    0\n",
       "Quantity           0\n",
       "TotalValue         0\n",
       "Price_x            0\n",
       "CustomerName       0\n",
       "Region             0\n",
       "SignupDate         0\n",
       "ProductName        0\n",
       "Category           0\n",
       "Price_y            0\n",
       "dtype: int64"
      ]
     },
     "execution_count": 43,
     "metadata": {},
     "output_type": "execute_result"
    }
   ],
   "source": [
    "final_df.isnull().sum()"
   ]
  },
  {
   "cell_type": "code",
   "execution_count": 54,
   "id": "dadd85d7-a4f4-4601-a69d-d126f71f7206",
   "metadata": {},
   "outputs": [
    {
     "name": "stdout",
     "output_type": "stream",
     "text": [
      "<class 'pandas.core.frame.DataFrame'>\n",
      "Index: 1000 entries, 0 to 1000\n",
      "Data columns (total 12 columns):\n",
      " #   Column           Non-Null Count  Dtype         \n",
      "---  ------           --------------  -----         \n",
      " 0   TransactionID    1000 non-null   object        \n",
      " 1   CustomerID       1000 non-null   object        \n",
      " 2   ProductID        1000 non-null   object        \n",
      " 3   TransactionDate  1000 non-null   datetime64[ns]\n",
      " 4   Quantity         1000 non-null   float64       \n",
      " 5   TotalValue       1000 non-null   float64       \n",
      " 6   Price_x          1000 non-null   float64       \n",
      " 7   CustomerName     1000 non-null   object        \n",
      " 8   Region           1000 non-null   object        \n",
      " 9   SignupDate       1000 non-null   datetime64[ns]\n",
      " 10  ProductName      1000 non-null   object        \n",
      " 11  Category         1000 non-null   category      \n",
      "dtypes: category(1), datetime64[ns](2), float64(3), object(6)\n",
      "memory usage: 94.9+ KB\n"
     ]
    }
   ],
   "source": [
    "final_df.info()"
   ]
  },
  {
   "cell_type": "code",
   "execution_count": 45,
   "id": "2c860c89-258f-4988-9123-77462816b912",
   "metadata": {},
   "outputs": [
    {
     "data": {
      "text/plain": [
       "True"
      ]
     },
     "execution_count": 45,
     "metadata": {},
     "output_type": "execute_result"
    }
   ],
   "source": [
    "(final_df['Price_x']==final_df['Price_y']).all()"
   ]
  },
  {
   "cell_type": "code",
   "execution_count": 48,
   "id": "65cfafe6-b989-4c34-8318-7cce5bacc0d1",
   "metadata": {},
   "outputs": [],
   "source": [
    "#Removing Price_y \n",
    "final_df=final_df.drop(columns=['Price_y'])"
   ]
  },
  {
   "cell_type": "code",
   "execution_count": 69,
   "id": "522ff4cb-0170-4832-bc06-7c27980aeff6",
   "metadata": {},
   "outputs": [
    {
     "data": {
      "text/html": [
       "<div>\n",
       "<style scoped>\n",
       "    .dataframe tbody tr th:only-of-type {\n",
       "        vertical-align: middle;\n",
       "    }\n",
       "\n",
       "    .dataframe tbody tr th {\n",
       "        vertical-align: top;\n",
       "    }\n",
       "\n",
       "    .dataframe thead th {\n",
       "        text-align: right;\n",
       "    }\n",
       "</style>\n",
       "<table border=\"1\" class=\"dataframe\">\n",
       "  <thead>\n",
       "    <tr style=\"text-align: right;\">\n",
       "      <th></th>\n",
       "      <th>TransactionID</th>\n",
       "      <th>CustomerID</th>\n",
       "      <th>hour</th>\n",
       "      <th>ProductID</th>\n",
       "      <th>TransactionDate</th>\n",
       "      <th>Quantity</th>\n",
       "      <th>TotalValue</th>\n",
       "      <th>Price</th>\n",
       "      <th>CustomerName</th>\n",
       "      <th>Region</th>\n",
       "      <th>SignupDate</th>\n",
       "      <th>ProductName</th>\n",
       "      <th>Category</th>\n",
       "    </tr>\n",
       "  </thead>\n",
       "  <tbody>\n",
       "    <tr>\n",
       "      <th>0</th>\n",
       "      <td>T00015</td>\n",
       "      <td>C0001</td>\n",
       "      <td>3</td>\n",
       "      <td>P054</td>\n",
       "      <td>2024-01-19 03:12:55</td>\n",
       "      <td>2.0</td>\n",
       "      <td>114.60</td>\n",
       "      <td>57.30</td>\n",
       "      <td>Lawrence Carroll</td>\n",
       "      <td>South America</td>\n",
       "      <td>2022-07-10</td>\n",
       "      <td>SoundWave Cookbook</td>\n",
       "      <td>Books</td>\n",
       "    </tr>\n",
       "    <tr>\n",
       "      <th>1</th>\n",
       "      <td>T00932</td>\n",
       "      <td>C0001</td>\n",
       "      <td>9</td>\n",
       "      <td>P022</td>\n",
       "      <td>2024-09-17 09:01:18</td>\n",
       "      <td>3.0</td>\n",
       "      <td>412.62</td>\n",
       "      <td>137.54</td>\n",
       "      <td>Lawrence Carroll</td>\n",
       "      <td>South America</td>\n",
       "      <td>2022-07-10</td>\n",
       "      <td>HomeSense Wall Art</td>\n",
       "      <td>Home Decor</td>\n",
       "    </tr>\n",
       "    <tr>\n",
       "      <th>2</th>\n",
       "      <td>T00085</td>\n",
       "      <td>C0001</td>\n",
       "      <td>0</td>\n",
       "      <td>P096</td>\n",
       "      <td>2024-04-08 00:01:00</td>\n",
       "      <td>2.0</td>\n",
       "      <td>614.94</td>\n",
       "      <td>307.47</td>\n",
       "      <td>Lawrence Carroll</td>\n",
       "      <td>South America</td>\n",
       "      <td>2022-07-10</td>\n",
       "      <td>SoundWave Headphones</td>\n",
       "      <td>Electronics</td>\n",
       "    </tr>\n",
       "    <tr>\n",
       "      <th>3</th>\n",
       "      <td>T00445</td>\n",
       "      <td>C0001</td>\n",
       "      <td>3</td>\n",
       "      <td>P083</td>\n",
       "      <td>2024-05-07 03:11:44</td>\n",
       "      <td>2.0</td>\n",
       "      <td>911.44</td>\n",
       "      <td>455.72</td>\n",
       "      <td>Lawrence Carroll</td>\n",
       "      <td>South America</td>\n",
       "      <td>2022-07-10</td>\n",
       "      <td>ActiveWear Smartwatch</td>\n",
       "      <td>Electronics</td>\n",
       "    </tr>\n",
       "    <tr>\n",
       "      <th>4</th>\n",
       "      <td>T00436</td>\n",
       "      <td>C0001</td>\n",
       "      <td>17</td>\n",
       "      <td>P029</td>\n",
       "      <td>2024-11-02 17:04:16</td>\n",
       "      <td>3.0</td>\n",
       "      <td>1300.92</td>\n",
       "      <td>433.64</td>\n",
       "      <td>Lawrence Carroll</td>\n",
       "      <td>South America</td>\n",
       "      <td>2022-07-10</td>\n",
       "      <td>TechPro Headphones</td>\n",
       "      <td>Electronics</td>\n",
       "    </tr>\n",
       "  </tbody>\n",
       "</table>\n",
       "</div>"
      ],
      "text/plain": [
       "  TransactionID CustomerID  hour ProductID     TransactionDate  Quantity  \\\n",
       "0        T00015      C0001     3      P054 2024-01-19 03:12:55       2.0   \n",
       "1        T00932      C0001     9      P022 2024-09-17 09:01:18       3.0   \n",
       "2        T00085      C0001     0      P096 2024-04-08 00:01:00       2.0   \n",
       "3        T00445      C0001     3      P083 2024-05-07 03:11:44       2.0   \n",
       "4        T00436      C0001    17      P029 2024-11-02 17:04:16       3.0   \n",
       "\n",
       "   TotalValue   Price      CustomerName         Region SignupDate  \\\n",
       "0      114.60   57.30  Lawrence Carroll  South America 2022-07-10   \n",
       "1      412.62  137.54  Lawrence Carroll  South America 2022-07-10   \n",
       "2      614.94  307.47  Lawrence Carroll  South America 2022-07-10   \n",
       "3      911.44  455.72  Lawrence Carroll  South America 2022-07-10   \n",
       "4     1300.92  433.64  Lawrence Carroll  South America 2022-07-10   \n",
       "\n",
       "             ProductName     Category  \n",
       "0     SoundWave Cookbook        Books  \n",
       "1     HomeSense Wall Art   Home Decor  \n",
       "2   SoundWave Headphones  Electronics  \n",
       "3  ActiveWear Smartwatch  Electronics  \n",
       "4     TechPro Headphones  Electronics  "
      ]
     },
     "execution_count": 69,
     "metadata": {},
     "output_type": "execute_result"
    }
   ],
   "source": [
    "#rename column \n",
    "final_df=final_df.rename(columns={'Price_x':'Price'})\n",
    "final_df.head()"
   ]
  },
  {
   "cell_type": "markdown",
   "id": "877e5a2b-9dc7-4ded-ad69-25ab79963deb",
   "metadata": {},
   "source": [
    "## How many days of Transaction data do we have?"
   ]
  },
  {
   "cell_type": "code",
   "execution_count": 74,
   "id": "b7dd1bf1-da0f-45ed-928f-bffb8354939e",
   "metadata": {},
   "outputs": [
    {
     "name": "stdout",
     "output_type": "stream",
     "text": [
      "2023-12-30 15:29:12\n",
      "2024-12-28 11:00:00\n"
     ]
    },
    {
     "data": {
      "text/plain": [
       "Timedelta('363 days 19:30:48')"
      ]
     },
     "execution_count": 74,
     "metadata": {},
     "output_type": "execute_result"
    }
   ],
   "source": [
    "start_date=final_df.TransactionDate.min()\n",
    "print(start_date)\n",
    "end_date=final_df.TransactionDate.max()\n",
    "print(end_date)\n",
    "(end_date-start_date)"
   ]
  },
  {
   "cell_type": "markdown",
   "id": "cef4ebf7-04f6-4300-a5b6-695a5c629362",
   "metadata": {},
   "source": [
    "## Add coloumns for Month, Day & Hour from Transaction data"
   ]
  },
  {
   "cell_type": "code",
   "execution_count": 80,
   "id": "7d4b0afd-4571-4798-a841-8674017694aa",
   "metadata": {},
   "outputs": [],
   "source": [
    "final_df.insert(loc=4, column='Transaction_year_month', value=final_df['TransactionDate'].map(lambda x: 100*x.year + x.month))\n",
    "final_df.insert(loc=5, column='Transaction_Month', value=final_df.TransactionDate.dt.month)\n",
    "# +1 to make Monday=1.....until Sunday=7\n",
    "final_df.insert(loc=6, column='Transaction_Day', value=(final_df.TransactionDate.dt.dayofweek)+1)\n",
    "final_df.insert(loc=7, column='Transaction_Hour', value=final_df.TransactionDate.dt.hour)"
   ]
  },
  {
   "cell_type": "code",
   "execution_count": 81,
   "id": "ee1a1310-ebc4-4156-87dd-b515c9f8b229",
   "metadata": {},
   "outputs": [
    {
     "data": {
      "text/html": [
       "<div>\n",
       "<style scoped>\n",
       "    .dataframe tbody tr th:only-of-type {\n",
       "        vertical-align: middle;\n",
       "    }\n",
       "\n",
       "    .dataframe tbody tr th {\n",
       "        vertical-align: top;\n",
       "    }\n",
       "\n",
       "    .dataframe thead th {\n",
       "        text-align: right;\n",
       "    }\n",
       "</style>\n",
       "<table border=\"1\" class=\"dataframe\">\n",
       "  <thead>\n",
       "    <tr style=\"text-align: right;\">\n",
       "      <th></th>\n",
       "      <th>TransactionID</th>\n",
       "      <th>CustomerID</th>\n",
       "      <th>ProductID</th>\n",
       "      <th>TransactionDate</th>\n",
       "      <th>Transaction_year_month</th>\n",
       "      <th>Transaction_Month</th>\n",
       "      <th>Transaction_Day</th>\n",
       "      <th>Transaction_Hour</th>\n",
       "      <th>Quantity</th>\n",
       "      <th>TotalValue</th>\n",
       "      <th>Price</th>\n",
       "      <th>CustomerName</th>\n",
       "      <th>Region</th>\n",
       "      <th>SignupDate</th>\n",
       "      <th>ProductName</th>\n",
       "      <th>Category</th>\n",
       "    </tr>\n",
       "  </thead>\n",
       "  <tbody>\n",
       "    <tr>\n",
       "      <th>0</th>\n",
       "      <td>T00015</td>\n",
       "      <td>C0001</td>\n",
       "      <td>P054</td>\n",
       "      <td>2024-01-19 03:12:55</td>\n",
       "      <td>202401</td>\n",
       "      <td>1</td>\n",
       "      <td>5</td>\n",
       "      <td>3</td>\n",
       "      <td>2.0</td>\n",
       "      <td>114.60</td>\n",
       "      <td>57.30</td>\n",
       "      <td>Lawrence Carroll</td>\n",
       "      <td>South America</td>\n",
       "      <td>2022-07-10</td>\n",
       "      <td>SoundWave Cookbook</td>\n",
       "      <td>Books</td>\n",
       "    </tr>\n",
       "    <tr>\n",
       "      <th>1</th>\n",
       "      <td>T00932</td>\n",
       "      <td>C0001</td>\n",
       "      <td>P022</td>\n",
       "      <td>2024-09-17 09:01:18</td>\n",
       "      <td>202409</td>\n",
       "      <td>9</td>\n",
       "      <td>2</td>\n",
       "      <td>9</td>\n",
       "      <td>3.0</td>\n",
       "      <td>412.62</td>\n",
       "      <td>137.54</td>\n",
       "      <td>Lawrence Carroll</td>\n",
       "      <td>South America</td>\n",
       "      <td>2022-07-10</td>\n",
       "      <td>HomeSense Wall Art</td>\n",
       "      <td>Home Decor</td>\n",
       "    </tr>\n",
       "    <tr>\n",
       "      <th>2</th>\n",
       "      <td>T00085</td>\n",
       "      <td>C0001</td>\n",
       "      <td>P096</td>\n",
       "      <td>2024-04-08 00:01:00</td>\n",
       "      <td>202404</td>\n",
       "      <td>4</td>\n",
       "      <td>1</td>\n",
       "      <td>0</td>\n",
       "      <td>2.0</td>\n",
       "      <td>614.94</td>\n",
       "      <td>307.47</td>\n",
       "      <td>Lawrence Carroll</td>\n",
       "      <td>South America</td>\n",
       "      <td>2022-07-10</td>\n",
       "      <td>SoundWave Headphones</td>\n",
       "      <td>Electronics</td>\n",
       "    </tr>\n",
       "    <tr>\n",
       "      <th>3</th>\n",
       "      <td>T00445</td>\n",
       "      <td>C0001</td>\n",
       "      <td>P083</td>\n",
       "      <td>2024-05-07 03:11:44</td>\n",
       "      <td>202405</td>\n",
       "      <td>5</td>\n",
       "      <td>2</td>\n",
       "      <td>3</td>\n",
       "      <td>2.0</td>\n",
       "      <td>911.44</td>\n",
       "      <td>455.72</td>\n",
       "      <td>Lawrence Carroll</td>\n",
       "      <td>South America</td>\n",
       "      <td>2022-07-10</td>\n",
       "      <td>ActiveWear Smartwatch</td>\n",
       "      <td>Electronics</td>\n",
       "    </tr>\n",
       "    <tr>\n",
       "      <th>4</th>\n",
       "      <td>T00436</td>\n",
       "      <td>C0001</td>\n",
       "      <td>P029</td>\n",
       "      <td>2024-11-02 17:04:16</td>\n",
       "      <td>202411</td>\n",
       "      <td>11</td>\n",
       "      <td>6</td>\n",
       "      <td>17</td>\n",
       "      <td>3.0</td>\n",
       "      <td>1300.92</td>\n",
       "      <td>433.64</td>\n",
       "      <td>Lawrence Carroll</td>\n",
       "      <td>South America</td>\n",
       "      <td>2022-07-10</td>\n",
       "      <td>TechPro Headphones</td>\n",
       "      <td>Electronics</td>\n",
       "    </tr>\n",
       "  </tbody>\n",
       "</table>\n",
       "</div>"
      ],
      "text/plain": [
       "  TransactionID CustomerID ProductID     TransactionDate  \\\n",
       "0        T00015      C0001      P054 2024-01-19 03:12:55   \n",
       "1        T00932      C0001      P022 2024-09-17 09:01:18   \n",
       "2        T00085      C0001      P096 2024-04-08 00:01:00   \n",
       "3        T00445      C0001      P083 2024-05-07 03:11:44   \n",
       "4        T00436      C0001      P029 2024-11-02 17:04:16   \n",
       "\n",
       "   Transaction_year_month  Transaction_Month  Transaction_Day  \\\n",
       "0                  202401                  1                5   \n",
       "1                  202409                  9                2   \n",
       "2                  202404                  4                1   \n",
       "3                  202405                  5                2   \n",
       "4                  202411                 11                6   \n",
       "\n",
       "   Transaction_Hour  Quantity  TotalValue   Price      CustomerName  \\\n",
       "0                 3       2.0      114.60   57.30  Lawrence Carroll   \n",
       "1                 9       3.0      412.62  137.54  Lawrence Carroll   \n",
       "2                 0       2.0      614.94  307.47  Lawrence Carroll   \n",
       "3                 3       2.0      911.44  455.72  Lawrence Carroll   \n",
       "4                17       3.0     1300.92  433.64  Lawrence Carroll   \n",
       "\n",
       "          Region SignupDate            ProductName     Category  \n",
       "0  South America 2022-07-10     SoundWave Cookbook        Books  \n",
       "1  South America 2022-07-10     HomeSense Wall Art   Home Decor  \n",
       "2  South America 2022-07-10   SoundWave Headphones  Electronics  \n",
       "3  South America 2022-07-10  ActiveWear Smartwatch  Electronics  \n",
       "4  South America 2022-07-10     TechPro Headphones  Electronics  "
      ]
     },
     "execution_count": 81,
     "metadata": {},
     "output_type": "execute_result"
    }
   ],
   "source": [
    "final_df.head()"
   ]
  },
  {
   "cell_type": "markdown",
   "id": "03ec5244-1e4d-43a4-9897-e3f6eda25b63",
   "metadata": {},
   "source": [
    "## Add column Signup_year for SignupDate"
   ]
  },
  {
   "cell_type": "code",
   "execution_count": 83,
   "id": "68089027-2eb6-4770-83f8-1b2a8da5b5a2",
   "metadata": {},
   "outputs": [],
   "source": [
    "final_df.insert(loc=14,column='Signup_year',value=final_df.SignupDate.dt.year)"
   ]
  },
  {
   "cell_type": "code",
   "execution_count": 84,
   "id": "a553a7e1-ad10-46a9-901e-a5e7a3ac96f2",
   "metadata": {},
   "outputs": [
    {
     "data": {
      "text/html": [
       "<div>\n",
       "<style scoped>\n",
       "    .dataframe tbody tr th:only-of-type {\n",
       "        vertical-align: middle;\n",
       "    }\n",
       "\n",
       "    .dataframe tbody tr th {\n",
       "        vertical-align: top;\n",
       "    }\n",
       "\n",
       "    .dataframe thead th {\n",
       "        text-align: right;\n",
       "    }\n",
       "</style>\n",
       "<table border=\"1\" class=\"dataframe\">\n",
       "  <thead>\n",
       "    <tr style=\"text-align: right;\">\n",
       "      <th></th>\n",
       "      <th>TransactionID</th>\n",
       "      <th>CustomerID</th>\n",
       "      <th>ProductID</th>\n",
       "      <th>TransactionDate</th>\n",
       "      <th>Transaction_year_month</th>\n",
       "      <th>Transaction_Month</th>\n",
       "      <th>Transaction_Day</th>\n",
       "      <th>Transaction_Hour</th>\n",
       "      <th>Quantity</th>\n",
       "      <th>TotalValue</th>\n",
       "      <th>Price</th>\n",
       "      <th>CustomerName</th>\n",
       "      <th>Region</th>\n",
       "      <th>SignupDate</th>\n",
       "      <th>Signup_year</th>\n",
       "      <th>ProductName</th>\n",
       "      <th>Category</th>\n",
       "    </tr>\n",
       "  </thead>\n",
       "  <tbody>\n",
       "    <tr>\n",
       "      <th>0</th>\n",
       "      <td>T00015</td>\n",
       "      <td>C0001</td>\n",
       "      <td>P054</td>\n",
       "      <td>2024-01-19 03:12:55</td>\n",
       "      <td>202401</td>\n",
       "      <td>1</td>\n",
       "      <td>5</td>\n",
       "      <td>3</td>\n",
       "      <td>2.0</td>\n",
       "      <td>114.60</td>\n",
       "      <td>57.30</td>\n",
       "      <td>Lawrence Carroll</td>\n",
       "      <td>South America</td>\n",
       "      <td>2022-07-10</td>\n",
       "      <td>2022</td>\n",
       "      <td>SoundWave Cookbook</td>\n",
       "      <td>Books</td>\n",
       "    </tr>\n",
       "    <tr>\n",
       "      <th>1</th>\n",
       "      <td>T00932</td>\n",
       "      <td>C0001</td>\n",
       "      <td>P022</td>\n",
       "      <td>2024-09-17 09:01:18</td>\n",
       "      <td>202409</td>\n",
       "      <td>9</td>\n",
       "      <td>2</td>\n",
       "      <td>9</td>\n",
       "      <td>3.0</td>\n",
       "      <td>412.62</td>\n",
       "      <td>137.54</td>\n",
       "      <td>Lawrence Carroll</td>\n",
       "      <td>South America</td>\n",
       "      <td>2022-07-10</td>\n",
       "      <td>2022</td>\n",
       "      <td>HomeSense Wall Art</td>\n",
       "      <td>Home Decor</td>\n",
       "    </tr>\n",
       "    <tr>\n",
       "      <th>2</th>\n",
       "      <td>T00085</td>\n",
       "      <td>C0001</td>\n",
       "      <td>P096</td>\n",
       "      <td>2024-04-08 00:01:00</td>\n",
       "      <td>202404</td>\n",
       "      <td>4</td>\n",
       "      <td>1</td>\n",
       "      <td>0</td>\n",
       "      <td>2.0</td>\n",
       "      <td>614.94</td>\n",
       "      <td>307.47</td>\n",
       "      <td>Lawrence Carroll</td>\n",
       "      <td>South America</td>\n",
       "      <td>2022-07-10</td>\n",
       "      <td>2022</td>\n",
       "      <td>SoundWave Headphones</td>\n",
       "      <td>Electronics</td>\n",
       "    </tr>\n",
       "    <tr>\n",
       "      <th>3</th>\n",
       "      <td>T00445</td>\n",
       "      <td>C0001</td>\n",
       "      <td>P083</td>\n",
       "      <td>2024-05-07 03:11:44</td>\n",
       "      <td>202405</td>\n",
       "      <td>5</td>\n",
       "      <td>2</td>\n",
       "      <td>3</td>\n",
       "      <td>2.0</td>\n",
       "      <td>911.44</td>\n",
       "      <td>455.72</td>\n",
       "      <td>Lawrence Carroll</td>\n",
       "      <td>South America</td>\n",
       "      <td>2022-07-10</td>\n",
       "      <td>2022</td>\n",
       "      <td>ActiveWear Smartwatch</td>\n",
       "      <td>Electronics</td>\n",
       "    </tr>\n",
       "    <tr>\n",
       "      <th>4</th>\n",
       "      <td>T00436</td>\n",
       "      <td>C0001</td>\n",
       "      <td>P029</td>\n",
       "      <td>2024-11-02 17:04:16</td>\n",
       "      <td>202411</td>\n",
       "      <td>11</td>\n",
       "      <td>6</td>\n",
       "      <td>17</td>\n",
       "      <td>3.0</td>\n",
       "      <td>1300.92</td>\n",
       "      <td>433.64</td>\n",
       "      <td>Lawrence Carroll</td>\n",
       "      <td>South America</td>\n",
       "      <td>2022-07-10</td>\n",
       "      <td>2022</td>\n",
       "      <td>TechPro Headphones</td>\n",
       "      <td>Electronics</td>\n",
       "    </tr>\n",
       "  </tbody>\n",
       "</table>\n",
       "</div>"
      ],
      "text/plain": [
       "  TransactionID CustomerID ProductID     TransactionDate  \\\n",
       "0        T00015      C0001      P054 2024-01-19 03:12:55   \n",
       "1        T00932      C0001      P022 2024-09-17 09:01:18   \n",
       "2        T00085      C0001      P096 2024-04-08 00:01:00   \n",
       "3        T00445      C0001      P083 2024-05-07 03:11:44   \n",
       "4        T00436      C0001      P029 2024-11-02 17:04:16   \n",
       "\n",
       "   Transaction_year_month  Transaction_Month  Transaction_Day  \\\n",
       "0                  202401                  1                5   \n",
       "1                  202409                  9                2   \n",
       "2                  202404                  4                1   \n",
       "3                  202405                  5                2   \n",
       "4                  202411                 11                6   \n",
       "\n",
       "   Transaction_Hour  Quantity  TotalValue   Price      CustomerName  \\\n",
       "0                 3       2.0      114.60   57.30  Lawrence Carroll   \n",
       "1                 9       3.0      412.62  137.54  Lawrence Carroll   \n",
       "2                 0       2.0      614.94  307.47  Lawrence Carroll   \n",
       "3                 3       2.0      911.44  455.72  Lawrence Carroll   \n",
       "4                17       3.0     1300.92  433.64  Lawrence Carroll   \n",
       "\n",
       "          Region SignupDate  Signup_year            ProductName     Category  \n",
       "0  South America 2022-07-10         2022     SoundWave Cookbook        Books  \n",
       "1  South America 2022-07-10         2022     HomeSense Wall Art   Home Decor  \n",
       "2  South America 2022-07-10         2022   SoundWave Headphones  Electronics  \n",
       "3  South America 2022-07-10         2022  ActiveWear Smartwatch  Electronics  \n",
       "4  South America 2022-07-10         2022     TechPro Headphones  Electronics  "
      ]
     },
     "execution_count": 84,
     "metadata": {},
     "output_type": "execute_result"
    }
   ],
   "source": [
    "final_df.head()"
   ]
  },
  {
   "cell_type": "markdown",
   "id": "856adb27-a56f-4d2e-8385-b24bdb0093b0",
   "metadata": {},
   "source": [
    "# Exploratory Data Analysis (EDA)"
   ]
  },
  {
   "cell_type": "markdown",
   "id": "0eea9aa5-dd41-4d3d-be04-8d12d36efb15",
   "metadata": {},
   "source": [
    "## How many orders made by the customer?"
   ]
  },
  {
   "cell_type": "code",
   "execution_count": 85,
   "id": "dfbe4025-55ef-44e0-b7a0-2399f005d558",
   "metadata": {},
   "outputs": [
    {
     "data": {
      "text/html": [
       "<div>\n",
       "<style scoped>\n",
       "    .dataframe tbody tr th:only-of-type {\n",
       "        vertical-align: middle;\n",
       "    }\n",
       "\n",
       "    .dataframe tbody tr th {\n",
       "        vertical-align: top;\n",
       "    }\n",
       "\n",
       "    .dataframe thead th {\n",
       "        text-align: right;\n",
       "    }\n",
       "</style>\n",
       "<table border=\"1\" class=\"dataframe\">\n",
       "  <thead>\n",
       "    <tr style=\"text-align: right;\">\n",
       "      <th></th>\n",
       "      <th>CustomerID</th>\n",
       "      <th>CustomerName</th>\n",
       "      <th>Region</th>\n",
       "      <th>Quantity</th>\n",
       "    </tr>\n",
       "  </thead>\n",
       "  <tbody>\n",
       "    <tr>\n",
       "      <th>0</th>\n",
       "      <td>C0001</td>\n",
       "      <td>Lawrence Carroll</td>\n",
       "      <td>South America</td>\n",
       "      <td>5</td>\n",
       "    </tr>\n",
       "    <tr>\n",
       "      <th>1</th>\n",
       "      <td>C0002</td>\n",
       "      <td>Elizabeth Lutz</td>\n",
       "      <td>Asia</td>\n",
       "      <td>4</td>\n",
       "    </tr>\n",
       "    <tr>\n",
       "      <th>2</th>\n",
       "      <td>C0003</td>\n",
       "      <td>Michael Rivera</td>\n",
       "      <td>South America</td>\n",
       "      <td>4</td>\n",
       "    </tr>\n",
       "    <tr>\n",
       "      <th>3</th>\n",
       "      <td>C0004</td>\n",
       "      <td>Kathleen Rodriguez</td>\n",
       "      <td>South America</td>\n",
       "      <td>8</td>\n",
       "    </tr>\n",
       "    <tr>\n",
       "      <th>4</th>\n",
       "      <td>C0005</td>\n",
       "      <td>Laura Weber</td>\n",
       "      <td>Asia</td>\n",
       "      <td>3</td>\n",
       "    </tr>\n",
       "  </tbody>\n",
       "</table>\n",
       "</div>"
      ],
      "text/plain": [
       "  CustomerID        CustomerName         Region  Quantity\n",
       "0      C0001    Lawrence Carroll  South America         5\n",
       "1      C0002      Elizabeth Lutz           Asia         4\n",
       "2      C0003      Michael Rivera  South America         4\n",
       "3      C0004  Kathleen Rodriguez  South America         8\n",
       "4      C0005         Laura Weber           Asia         3"
      ]
     },
     "execution_count": 85,
     "metadata": {},
     "output_type": "execute_result"
    }
   ],
   "source": [
    "final_df.groupby(by=['CustomerID','CustomerName','Region'], as_index=False)['Quantity'].count().head()"
   ]
  },
  {
   "cell_type": "code",
   "execution_count": 101,
   "id": "277d3b8e-7713-4db4-9f5f-408c80883c13",
   "metadata": {},
   "outputs": [
    {
     "data": {
      "image/png": "[encoded data removed]",
      "text/plain": [
       "<Figure size 2000x600 with 1 Axes>"
      ]
     },
     "metadata": {},
     "output_type": "display_data"
    }
   ],
   "source": [
    "orders['CustomerID_numeric'] = orders['CustomerID'].str.extract('(\\d+)').astype(int)\n",
    "plt.figure(figsize=(20, 6))\n",
    "plt.plot(orders.CustomerID_numeric, orders.Quantity)\n",
    "plt.xlabel('Customer ID (Numeric)')\n",
    "plt.ylabel('Number of Orders')\n",
    "plt.title('Number of Orders for Different Customers')\n",
    "plt.show()\n",
    "\n"
   ]
  },
  {
   "cell_type": "code",
   "execution_count": 102,
   "id": "f232c290-7f7f-4646-9e8f-db1ae3247bf0",
   "metadata": {},
   "outputs": [
    {
     "data": {
      "image/png": "[encoded data removed]",
      "text/plain": [
       "<Figure size 1000x600 with 1 Axes>"
      ]
     },
     "metadata": {},
     "output_type": "display_data"
    }
   ],
   "source": [
    "top_customers = orders.nlargest(25, 'Quantity') \n",
    "plt.figure(figsize=(10, 6))\n",
    "plt.bar(top_customers.CustomerID, top_customers.Quantity)\n",
    "plt.xticks(rotation=45)\n",
    "plt.xlabel('Customer ID')\n",
    "plt.ylabel('Number of Orders')\n",
    "plt.title('Top 25 Customers by Number of Orders')\n",
    "plt.show()"
   ]
  },
  {
   "cell_type": "markdown",
   "id": "d023391b-e18c-4d42-9f64-5ccb7631df18",
   "metadata": {},
   "source": [
    "## Check TOP 5 most number of orders"
   ]
  },
  {
   "cell_type": "code",
   "execution_count": 103,
   "id": "dcee090f-3bd2-4f07-b021-bddf8350113a",
   "metadata": {},
   "outputs": [
    {
     "name": "stdout",
     "output_type": "stream",
     "text": [
      "The TOP 5 customers with most number of orders...\n"
     ]
    },
    {
     "data": {
      "text/html": [
       "<div>\n",
       "<style scoped>\n",
       "    .dataframe tbody tr th:only-of-type {\n",
       "        vertical-align: middle;\n",
       "    }\n",
       "\n",
       "    .dataframe tbody tr th {\n",
       "        vertical-align: top;\n",
       "    }\n",
       "\n",
       "    .dataframe thead th {\n",
       "        text-align: right;\n",
       "    }\n",
       "</style>\n",
       "<table border=\"1\" class=\"dataframe\">\n",
       "  <thead>\n",
       "    <tr style=\"text-align: right;\">\n",
       "      <th></th>\n",
       "      <th>CustomerID</th>\n",
       "      <th>CustomerName</th>\n",
       "      <th>Region</th>\n",
       "      <th>Quantity</th>\n",
       "      <th>CustomerID_numeric</th>\n",
       "    </tr>\n",
       "  </thead>\n",
       "  <tbody>\n",
       "    <tr>\n",
       "      <th>155</th>\n",
       "      <td>C0156</td>\n",
       "      <td>William Adams</td>\n",
       "      <td>North America</td>\n",
       "      <td>11</td>\n",
       "      <td>156</td>\n",
       "    </tr>\n",
       "    <tr>\n",
       "      <th>108</th>\n",
       "      <td>C0109</td>\n",
       "      <td>Abigail Jones</td>\n",
       "      <td>North America</td>\n",
       "      <td>11</td>\n",
       "      <td>109</td>\n",
       "    </tr>\n",
       "    <tr>\n",
       "      <th>174</th>\n",
       "      <td>C0175</td>\n",
       "      <td>Matthew Johnson</td>\n",
       "      <td>Asia</td>\n",
       "      <td>10</td>\n",
       "      <td>175</td>\n",
       "    </tr>\n",
       "    <tr>\n",
       "      <th>140</th>\n",
       "      <td>C0141</td>\n",
       "      <td>Paul Parsons</td>\n",
       "      <td>Europe</td>\n",
       "      <td>10</td>\n",
       "      <td>141</td>\n",
       "    </tr>\n",
       "    <tr>\n",
       "      <th>64</th>\n",
       "      <td>C0065</td>\n",
       "      <td>Gerald Hines</td>\n",
       "      <td>North America</td>\n",
       "      <td>10</td>\n",
       "      <td>65</td>\n",
       "    </tr>\n",
       "  </tbody>\n",
       "</table>\n",
       "</div>"
      ],
      "text/plain": [
       "    CustomerID     CustomerName         Region  Quantity  CustomerID_numeric\n",
       "155      C0156    William Adams  North America        11                 156\n",
       "108      C0109    Abigail Jones  North America        11                 109\n",
       "174      C0175  Matthew Johnson           Asia        10                 175\n",
       "140      C0141     Paul Parsons         Europe        10                 141\n",
       "64       C0065     Gerald Hines  North America        10                  65"
      ]
     },
     "execution_count": 103,
     "metadata": {},
     "output_type": "execute_result"
    }
   ],
   "source": [
    "print('The TOP 5 customers with most number of orders...')\n",
    "orders.sort_values(by='Quantity', ascending=False).head()"
   ]
  },
  {
   "cell_type": "markdown",
   "id": "818b1536-c599-4231-bae3-dfec64f8f564",
   "metadata": {},
   "source": [
    "## How much money spent by the customers?"
   ]
  },
  {
   "cell_type": "code",
   "execution_count": 108,
   "id": "24f62163-678e-449b-b104-a497ea936ed5",
   "metadata": {},
   "outputs": [
    {
     "data": {
      "image/png": "[encoded data removed]",
      "text/plain": [
       "<Figure size 2000x600 with 1 Axes>"
      ]
     },
     "metadata": {},
     "output_type": "display_data"
    }
   ],
   "source": [
    "money_spent = final_df.groupby(by=['CustomerID', 'CustomerName', 'Region'], as_index=False)['TotalValue'].sum()\n",
    "money_spent['CustomerID_numeric'] = money_spent['CustomerID'].str.extract('(\\d+)').astype(int)\n",
    "plt.figure(figsize=(20, 6))\n",
    "plt.plot(money_spent.CustomerID_numeric, money_spent.TotalValue)\n",
    "plt.xlabel('Customer ID (Numeric)')\n",
    "plt.ylabel('Money Spent')\n",
    "plt.title('Money Spent for Different Customers')\n",
    "plt.show()\n"
   ]
  },
  {
   "cell_type": "markdown",
   "id": "eef01c86-7c49-4193-8516-6c342462b1db",
   "metadata": {},
   "source": [
    "## Check TOP 5 highest money spent"
   ]
  },
  {
   "cell_type": "code",
   "execution_count": 109,
   "id": "21b25e30-004b-4bfa-a0dc-3621a9ef5cb8",
   "metadata": {},
   "outputs": [
    {
     "name": "stdout",
     "output_type": "stream",
     "text": [
      "The TOP 5 customers with highest money spent...\n"
     ]
    },
    {
     "data": {
      "text/html": [
       "<div>\n",
       "<style scoped>\n",
       "    .dataframe tbody tr th:only-of-type {\n",
       "        vertical-align: middle;\n",
       "    }\n",
       "\n",
       "    .dataframe tbody tr th {\n",
       "        vertical-align: top;\n",
       "    }\n",
       "\n",
       "    .dataframe thead th {\n",
       "        text-align: right;\n",
       "    }\n",
       "</style>\n",
       "<table border=\"1\" class=\"dataframe\">\n",
       "  <thead>\n",
       "    <tr style=\"text-align: right;\">\n",
       "      <th></th>\n",
       "      <th>CustomerID</th>\n",
       "      <th>CustomerName</th>\n",
       "      <th>Region</th>\n",
       "      <th>TotalValue</th>\n",
       "      <th>CustomerID_numeric</th>\n",
       "    </tr>\n",
       "  </thead>\n",
       "  <tbody>\n",
       "    <tr>\n",
       "      <th>140</th>\n",
       "      <td>C0141</td>\n",
       "      <td>Paul Parsons</td>\n",
       "      <td>Europe</td>\n",
       "      <td>10673.87</td>\n",
       "      <td>141</td>\n",
       "    </tr>\n",
       "    <tr>\n",
       "      <th>53</th>\n",
       "      <td>C0054</td>\n",
       "      <td>Bruce Rhodes</td>\n",
       "      <td>Asia</td>\n",
       "      <td>8040.39</td>\n",
       "      <td>54</td>\n",
       "    </tr>\n",
       "    <tr>\n",
       "      <th>64</th>\n",
       "      <td>C0065</td>\n",
       "      <td>Gerald Hines</td>\n",
       "      <td>North America</td>\n",
       "      <td>7663.70</td>\n",
       "      <td>65</td>\n",
       "    </tr>\n",
       "    <tr>\n",
       "      <th>155</th>\n",
       "      <td>C0156</td>\n",
       "      <td>William Adams</td>\n",
       "      <td>North America</td>\n",
       "      <td>7634.45</td>\n",
       "      <td>156</td>\n",
       "    </tr>\n",
       "    <tr>\n",
       "      <th>81</th>\n",
       "      <td>C0082</td>\n",
       "      <td>Aimee Taylor</td>\n",
       "      <td>South America</td>\n",
       "      <td>7572.91</td>\n",
       "      <td>82</td>\n",
       "    </tr>\n",
       "  </tbody>\n",
       "</table>\n",
       "</div>"
      ],
      "text/plain": [
       "    CustomerID   CustomerName         Region  TotalValue  CustomerID_numeric\n",
       "140      C0141   Paul Parsons         Europe    10673.87                 141\n",
       "53       C0054   Bruce Rhodes           Asia     8040.39                  54\n",
       "64       C0065   Gerald Hines  North America     7663.70                  65\n",
       "155      C0156  William Adams  North America     7634.45                 156\n",
       "81       C0082   Aimee Taylor  South America     7572.91                  82"
      ]
     },
     "execution_count": 109,
     "metadata": {},
     "output_type": "execute_result"
    }
   ],
   "source": [
    "print('The TOP 5 customers with highest money spent...')\n",
    "money_spent.sort_values(by='TotalValue', ascending=False).head()"
   ]
  },
  {
   "cell_type": "markdown",
   "id": "e4d79512-ff87-463d-bd0b-d2e1fe7e0bc7",
   "metadata": {},
   "source": [
    "## Discover patterns for Number of Orders"
   ]
  },
  {
   "cell_type": "code",
   "execution_count": 112,
   "id": "d9a86d83-d639-4dd1-897f-42e5f75a786c",
   "metadata": {},
   "outputs": [
    {
     "data": {
      "image/png": "[encoded data removed]",
      "text/plain": [
       "<Figure size 1000x100 with 1 Axes>"
      ]
     },
     "metadata": {},
     "output_type": "display_data"
    }
   ],
   "source": [
    "# color available\n",
    "sns.palplot(color)"
   ]
  },
  {
   "cell_type": "code",
   "execution_count": 113,
   "id": "e0ef0320-6ba7-44b8-8e77-1a44131dd12e",
   "metadata": {},
   "outputs": [
    {
     "data": {
      "text/html": [
       "<div>\n",
       "<style scoped>\n",
       "    .dataframe tbody tr th:only-of-type {\n",
       "        vertical-align: middle;\n",
       "    }\n",
       "\n",
       "    .dataframe tbody tr th {\n",
       "        vertical-align: top;\n",
       "    }\n",
       "\n",
       "    .dataframe thead th {\n",
       "        text-align: right;\n",
       "    }\n",
       "</style>\n",
       "<table border=\"1\" class=\"dataframe\">\n",
       "  <thead>\n",
       "    <tr style=\"text-align: right;\">\n",
       "      <th></th>\n",
       "      <th>TransactionID</th>\n",
       "      <th>CustomerID</th>\n",
       "      <th>ProductID</th>\n",
       "      <th>TransactionDate</th>\n",
       "      <th>Transaction_year_month</th>\n",
       "      <th>Transaction_Month</th>\n",
       "      <th>Transaction_Day</th>\n",
       "      <th>Transaction_Hour</th>\n",
       "      <th>Quantity</th>\n",
       "      <th>TotalValue</th>\n",
       "      <th>Price</th>\n",
       "      <th>CustomerName</th>\n",
       "      <th>Region</th>\n",
       "      <th>SignupDate</th>\n",
       "      <th>Signup_year</th>\n",
       "      <th>ProductName</th>\n",
       "      <th>Category</th>\n",
       "      <th>CustomerID_numeric</th>\n",
       "    </tr>\n",
       "  </thead>\n",
       "  <tbody>\n",
       "    <tr>\n",
       "      <th>0</th>\n",
       "      <td>T00015</td>\n",
       "      <td>C0001</td>\n",
       "      <td>P054</td>\n",
       "      <td>2024-01-19 03:12:55</td>\n",
       "      <td>202401</td>\n",
       "      <td>1</td>\n",
       "      <td>5</td>\n",
       "      <td>3</td>\n",
       "      <td>2.0</td>\n",
       "      <td>114.60</td>\n",
       "      <td>57.30</td>\n",
       "      <td>Lawrence Carroll</td>\n",
       "      <td>South America</td>\n",
       "      <td>2022-07-10</td>\n",
       "      <td>2022</td>\n",
       "      <td>SoundWave Cookbook</td>\n",
       "      <td>Books</td>\n",
       "      <td>0001</td>\n",
       "    </tr>\n",
       "    <tr>\n",
       "      <th>1</th>\n",
       "      <td>T00932</td>\n",
       "      <td>C0001</td>\n",
       "      <td>P022</td>\n",
       "      <td>2024-09-17 09:01:18</td>\n",
       "      <td>202409</td>\n",
       "      <td>9</td>\n",
       "      <td>2</td>\n",
       "      <td>9</td>\n",
       "      <td>3.0</td>\n",
       "      <td>412.62</td>\n",
       "      <td>137.54</td>\n",
       "      <td>Lawrence Carroll</td>\n",
       "      <td>South America</td>\n",
       "      <td>2022-07-10</td>\n",
       "      <td>2022</td>\n",
       "      <td>HomeSense Wall Art</td>\n",
       "      <td>Home Decor</td>\n",
       "      <td>0001</td>\n",
       "    </tr>\n",
       "    <tr>\n",
       "      <th>2</th>\n",
       "      <td>T00085</td>\n",
       "      <td>C0001</td>\n",
       "      <td>P096</td>\n",
       "      <td>2024-04-08 00:01:00</td>\n",
       "      <td>202404</td>\n",
       "      <td>4</td>\n",
       "      <td>1</td>\n",
       "      <td>0</td>\n",
       "      <td>2.0</td>\n",
       "      <td>614.94</td>\n",
       "      <td>307.47</td>\n",
       "      <td>Lawrence Carroll</td>\n",
       "      <td>South America</td>\n",
       "      <td>2022-07-10</td>\n",
       "      <td>2022</td>\n",
       "      <td>SoundWave Headphones</td>\n",
       "      <td>Electronics</td>\n",
       "      <td>0001</td>\n",
       "    </tr>\n",
       "    <tr>\n",
       "      <th>3</th>\n",
       "      <td>T00445</td>\n",
       "      <td>C0001</td>\n",
       "      <td>P083</td>\n",
       "      <td>2024-05-07 03:11:44</td>\n",
       "      <td>202405</td>\n",
       "      <td>5</td>\n",
       "      <td>2</td>\n",
       "      <td>3</td>\n",
       "      <td>2.0</td>\n",
       "      <td>911.44</td>\n",
       "      <td>455.72</td>\n",
       "      <td>Lawrence Carroll</td>\n",
       "      <td>South America</td>\n",
       "      <td>2022-07-10</td>\n",
       "      <td>2022</td>\n",
       "      <td>ActiveWear Smartwatch</td>\n",
       "      <td>Electronics</td>\n",
       "      <td>0001</td>\n",
       "    </tr>\n",
       "    <tr>\n",
       "      <th>4</th>\n",
       "      <td>T00436</td>\n",
       "      <td>C0001</td>\n",
       "      <td>P029</td>\n",
       "      <td>2024-11-02 17:04:16</td>\n",
       "      <td>202411</td>\n",
       "      <td>11</td>\n",
       "      <td>6</td>\n",
       "      <td>17</td>\n",
       "      <td>3.0</td>\n",
       "      <td>1300.92</td>\n",
       "      <td>433.64</td>\n",
       "      <td>Lawrence Carroll</td>\n",
       "      <td>South America</td>\n",
       "      <td>2022-07-10</td>\n",
       "      <td>2022</td>\n",
       "      <td>TechPro Headphones</td>\n",
       "      <td>Electronics</td>\n",
       "      <td>0001</td>\n",
       "    </tr>\n",
       "  </tbody>\n",
       "</table>\n",
       "</div>"
      ],
      "text/plain": [
       "  TransactionID CustomerID ProductID     TransactionDate  \\\n",
       "0        T00015      C0001      P054 2024-01-19 03:12:55   \n",
       "1        T00932      C0001      P022 2024-09-17 09:01:18   \n",
       "2        T00085      C0001      P096 2024-04-08 00:01:00   \n",
       "3        T00445      C0001      P083 2024-05-07 03:11:44   \n",
       "4        T00436      C0001      P029 2024-11-02 17:04:16   \n",
       "\n",
       "   Transaction_year_month  Transaction_Month  Transaction_Day  \\\n",
       "0                  202401                  1                5   \n",
       "1                  202409                  9                2   \n",
       "2                  202404                  4                1   \n",
       "3                  202405                  5                2   \n",
       "4                  202411                 11                6   \n",
       "\n",
       "   Transaction_Hour  Quantity  TotalValue   Price      CustomerName  \\\n",
       "0                 3       2.0      114.60   57.30  Lawrence Carroll   \n",
       "1                 9       3.0      412.62  137.54  Lawrence Carroll   \n",
       "2                 0       2.0      614.94  307.47  Lawrence Carroll   \n",
       "3                 3       2.0      911.44  455.72  Lawrence Carroll   \n",
       "4                17       3.0     1300.92  433.64  Lawrence Carroll   \n",
       "\n",
       "          Region SignupDate  Signup_year            ProductName     Category  \\\n",
       "0  South America 2022-07-10         2022     SoundWave Cookbook        Books   \n",
       "1  South America 2022-07-10         2022     HomeSense Wall Art   Home Decor   \n",
       "2  South America 2022-07-10         2022   SoundWave Headphones  Electronics   \n",
       "3  South America 2022-07-10         2022  ActiveWear Smartwatch  Electronics   \n",
       "4  South America 2022-07-10         2022     TechPro Headphones  Electronics   \n",
       "\n",
       "  CustomerID_numeric  \n",
       "0               0001  \n",
       "1               0001  \n",
       "2               0001  \n",
       "3               0001  \n",
       "4               0001  "
      ]
     },
     "execution_count": 113,
     "metadata": {},
     "output_type": "execute_result"
    }
   ],
   "source": [
    "final_df.head()"
   ]
  },
  {
   "cell_type": "code",
   "execution_count": 135,
   "id": "e222726b-e91a-4573-9e2e-432f105539ee",
   "metadata": {},
   "outputs": [
    {
     "data": {
      "image/png": "[encoded data removed]",
      "text/plain": [
       "<Figure size 1500x600 with 1 Axes>"
      ]
     },
     "metadata": {},
     "output_type": "display_data"
    }
   ],
   "source": [
    "# Group data by Transaction_year_month and count occurrences\n",
    "monthly_orders = (final_df.groupby('Transaction_year_month').size().sort_index())\n",
    "fig, ax = plt.subplots(figsize=(15, 6))\n",
    "monthly_orders.plot(kind='bar', ax=ax,color=color[0], alpha=0.7)\n",
    "ax.set_xlabel('Month', fontsize=15)\n",
    "ax.set_ylabel('Number of Orders', fontsize=15)\n",
    "ax.set_title('Number of Orders for Different Months (30th Dec 2023 - 28th Dec 2024)', fontsize=15)\n",
    "ax.set_xticks(range(len(monthly_orders.index)))\n",
    "ax.set_xticklabels(['Dec_23', 'Jan_24', 'Feb_24', 'Mar_24', 'Apr_24', 'May_24', 'Jun_24','Jul_24', 'Aug_24', 'Sep_24', 'Oct_24', 'Nov_24', 'Dec_24'],rotation='horizontal',fontsize=13)\n",
    "plt.show()"
   ]
  },
  {
   "cell_type": "markdown",
   "id": "a3ce933a-c4be-4eab-b0c6-a2b0e70e9ab5",
   "metadata": {},
   "source": [
    "## How many orders (per day)?"
   ]
  },
  {
   "cell_type": "code",
   "execution_count": 132,
   "id": "e62a96e5-0dfc-44b4-b7fb-ea209a531255",
   "metadata": {},
   "outputs": [
    {
     "name": "stdout",
     "output_type": "stream",
     "text": [
      "Transaction_Day\n",
      "1    139\n",
      "2    163\n",
      "3    158\n",
      "4    150\n",
      "5    125\n",
      "6    126\n",
      "7    139\n",
      "Name: count, dtype: int64\n"
     ]
    }
   ],
   "source": [
    "day_orders = final_df.groupby('Quantity')['Transaction_Day'].apply(list).explode().value_counts().sort_index()\n",
    "print(day_orders)"
   ]
  },
  {
   "cell_type": "code",
   "execution_count": 134,
   "id": "c436207f-1d3f-4819-a193-3077aa184e84",
   "metadata": {},
   "outputs": [
    {
     "data": {
      "image/png": "[encoded data removed]",
      "text/plain": [
       "<Figure size 1500x600 with 1 Axes>"
      ]
     },
     "metadata": {},
     "output_type": "display_data"
    }
   ],
   "source": [
    "ax=day_orders.plot(kind='bar', color=color[0], figsize=(15, 6))\n",
    "ax.set_xlabel('Day',fontsize=15)\n",
    "ax.set_ylabel('Number of Orders',fontsize=15)\n",
    "ax.set_title('Number of orders for different Days',fontsize=15)\n",
    "day_labels = ['Mon', 'Tue', 'Wed', 'Thu', 'Fri', 'Sat', 'Sun']\n",
    "ax.set_xticks(range(len(day_labels)))\n",
    "ax.set_xticklabels(day_labels, rotation='horizontal', fontsize=15)\n",
    "plt.show()"
   ]
  },
  {
   "cell_type": "markdown",
   "id": "8ae77e0e-bd7f-43e2-9920-7167bb00a974",
   "metadata": {},
   "source": [
    "## How many orders (per hour)?"
   ]
  },
  {
   "cell_type": "code",
   "execution_count": 138,
   "id": "7718a0ba-f9e0-4f56-ac6e-5875596fc811",
   "metadata": {},
   "outputs": [],
   "source": [
    "hour_orders = final_df.groupby('Quantity')['Transaction_Hour'].unique().apply(len).iloc[:-1].sort_index()"
   ]
  },
  {
   "cell_type": "code",
   "execution_count": 145,
   "id": "916da4e2-cfcf-4ca2-8660-36331de9e79e",
   "metadata": {},
   "outputs": [
    {
     "data": {
      "image/png": "[encoded data removed]",
      "text/plain": [
       "<Figure size 1500x600 with 1 Axes>"
      ]
     },
     "metadata": {},
     "output_type": "display_data"
    }
   ],
   "source": [
    "hour_orders = final_df.groupby('Transaction_Hour')['Quantity'].count().sort_index()\n",
    "ax = hour_orders.plot(kind='bar', color=color[0], figsize=(15, 6))\n",
    "ax.set_xlabel('Hour', fontsize=15)\n",
    "ax.set_ylabel('Number of Orders', fontsize=15)\n",
    "ax.set_title('Number of Orders for Different Hours', fontsize=15)\n",
    "ax.set_xticks(range(len(hour_orders.index)))\n",
    "ax.set_xticklabels(hour_orders.index, rotation='horizontal', fontsize=15)\n",
    "plt.show()\n"
   ]
  },
  {
   "cell_type": "code",
   "execution_count": 147,
   "id": "3c848bd1-2e8b-42b5-aaf6-e41f53bd11c1",
   "metadata": {},
   "outputs": [
    {
     "name": "stdout",
     "output_type": "stream",
     "text": [
      "[ 3  9  0 17 10 23  7  1 19  5  2 18  6 22 16 14 13  4  8 20 11 15 12 21]\n"
     ]
    }
   ],
   "source": [
    "print(final_df['Transaction_Hour'].unique())\n"
   ]
  },
  {
   "cell_type": "code",
   "execution_count": 149,
   "id": "fa288d98-db29-4c52-ab34-50e551122b0b",
   "metadata": {},
   "outputs": [
    {
     "name": "stdout",
     "output_type": "stream",
     "text": [
      "0\n",
      "    TransactionID CustomerID ProductID     TransactionDate  \\\n",
      "2          T00085      C0001      P096 2024-04-08 00:01:00   \n",
      "23         T00789      C0005      P012 2024-11-04 00:30:22   \n",
      "62         T00503      C0013      P017 2024-07-26 00:21:59   \n",
      "91         T00507      C0019      P018 2024-05-28 00:57:27   \n",
      "94         T00350      C0020      P096 2024-01-30 00:57:29   \n",
      "96         T00069      C0021      P086 2024-01-13 00:48:20   \n",
      "120        T00689      C0024      P090 2024-05-30 00:00:01   \n",
      "128        T00787      C0026      P027 2024-06-04 00:03:44   \n",
      "154        T00238      C0031      P091 2024-08-11 00:11:15   \n",
      "163        T00905      C0034      P033 2024-09-22 00:00:09   \n",
      "175        T00267      C0037      P066 2024-06-30 00:11:05   \n",
      "249        T00257      C0051      P091 2024-08-10 00:39:50   \n",
      "287        T00071      C0059      P068 2024-10-24 00:10:41   \n",
      "321        T00008      C0067      P069 2024-10-17 00:45:17   \n",
      "323        T00431      C0067      P078 2024-08-15 00:55:59   \n",
      "336        T00243      C0069      P010 2024-08-31 00:38:43   \n",
      "342        T00354      C0070      P097 2024-05-15 00:22:27   \n",
      "377        T00530      C0079      P009 2024-05-02 00:31:22   \n",
      "389        T00577      C0082      P032 2024-10-19 00:46:52   \n",
      "442        T00703      C0092      P057 2024-02-04 00:31:54   \n",
      "467        T00542      C0098      P050 2024-04-17 00:48:43   \n",
      "477        T00460      C0099      P052 2024-05-02 00:25:40   \n",
      "578        T00924      C0116      P066 2024-04-02 00:16:13   \n",
      "607        T00265      C0122      P084 2024-03-19 00:50:12   \n",
      "626        T00061      C0126      P032 2024-01-16 00:42:19   \n",
      "639        T00311      C0129      P009 2024-09-30 00:40:17   \n",
      "665        T00440      C0136      P021 2024-07-24 00:20:52   \n",
      "695        T00628      C0141      P064 2024-08-19 00:45:26   \n",
      "722        T00570      C0147      P062 2024-12-25 00:52:54   \n",
      "769        T00565      C0156      P007 2024-12-15 00:35:54   \n",
      "787        T00785      C0159      P038 2024-03-26 00:51:36   \n",
      "800        T00096      C0161      P073 2024-03-23 00:07:54   \n",
      "814        T00680      C0163      P029 2024-07-18 00:10:42   \n",
      "828        T00672      C0165      P044 2024-07-28 00:09:49   \n",
      "854        T00406      C0171      P040 2024-02-18 00:12:39   \n",
      "880        T00400      C0175      P059 2024-04-24 00:16:33   \n",
      "894        T00795      C0178      P061 2024-12-21 00:45:52   \n",
      "909        T00706      C0181      P002 2024-07-01 00:11:31   \n",
      "953        T00808      C0190      P054 2024-07-06 00:13:42   \n",
      "954        T00515      C0190      P078 2024-12-14 00:46:19   \n",
      "975        T00858      C0194      P012 2024-08-18 00:51:18   \n",
      "995        T00963      C0199      P008 2024-10-26 00:01:58   \n",
      "\n",
      "     Transaction_year_month  Transaction_Month  Transaction_Day  \\\n",
      "2                    202404                  4                1   \n",
      "23                   202411                 11                1   \n",
      "62                   202407                  7                5   \n",
      "91                   202405                  5                2   \n",
      "94                   202401                  1                2   \n",
      "96                   202401                  1                6   \n",
      "120                  202405                  5                4   \n",
      "128                  202406                  6                2   \n",
      "154                  202408                  8                7   \n",
      "163                  202409                  9                7   \n",
      "175                  202406                  6                7   \n",
      "249                  202408                  8                6   \n",
      "287                  202410                 10                4   \n",
      "321                  202410                 10                4   \n",
      "323                  202408                  8                4   \n",
      "336                  202408                  8                6   \n",
      "342                  202405                  5                3   \n",
      "377                  202405                  5                4   \n",
      "389                  202410                 10                6   \n",
      "442                  202402                  2                7   \n",
      "467                  202404                  4                3   \n",
      "477                  202405                  5                4   \n",
      "578                  202404                  4                2   \n",
      "607                  202403                  3                2   \n",
      "626                  202401                  1                2   \n",
      "639                  202409                  9                1   \n",
      "665                  202407                  7                3   \n",
      "695                  202408                  8                1   \n",
      "722                  202412                 12                3   \n",
      "769                  202412                 12                7   \n",
      "787                  202403                  3                2   \n",
      "800                  202403                  3                6   \n",
      "814                  202407                  7                4   \n",
      "828                  202407                  7                7   \n",
      "854                  202402                  2                7   \n",
      "880                  202404                  4                3   \n",
      "894                  202412                 12                6   \n",
      "909                  202407                  7                1   \n",
      "953                  202407                  7                6   \n",
      "954                  202412                 12                6   \n",
      "975                  202408                  8                7   \n",
      "995                  202410                 10                6   \n",
      "\n",
      "     Transaction_Hour  Quantity  TotalValue   Price          CustomerName  \\\n",
      "2                   0       2.0      614.94  307.47      Lawrence Carroll   \n",
      "23                  0       2.0      319.20  159.60           Laura Weber   \n",
      "62                  0       4.0     1879.08  469.77       Lauren Buchanan   \n",
      "91                  0       1.0      436.89  436.89     Brandon Rodriguez   \n",
      "94                  0       3.0      922.41  307.47     Mr. Manuel Conway   \n",
      "96                  0       4.0     1762.80  440.70      Robert Blanchard   \n",
      "120                 0       2.0      330.60  165.30        Michele Cooley   \n",
      "128                 0       4.0      916.24  229.06           Sara Miller   \n",
      "154                 0       2.0      445.90  222.95           Tina Miller   \n",
      "163                 0       2.0      128.50   64.25          Dalton Perez   \n",
      "175                 0       3.0     1011.66  337.22           Linda Smith   \n",
      "249                 0       1.0      222.95  222.95        Nicholas Ellis   \n",
      "287                 0       1.0      447.23  447.23  Mrs. Kimberly Wright   \n",
      "321                 0       1.0      100.81  100.81         Carl Gonzalez   \n",
      "323                 0       3.0      123.54   41.18         Carl Gonzalez   \n",
      "336                 0       2.0      700.26  350.13          Stacy Foster   \n",
      "342                 0       4.0     1277.36  319.34         Timothy Perez   \n",
      "377                 0       2.0      650.02  325.01         Brian Murillo   \n",
      "389                 0       2.0      977.26  488.63          Aimee Taylor   \n",
      "442                 0       3.0      719.10  239.70     Jacqueline Zamora   \n",
      "467                 0       1.0      437.65  437.65         Laura Gilbert   \n",
      "477                 0       2.0      709.62  354.81          Rodney Eaton   \n",
      "578                 0       1.0      337.22  337.22        James Martinez   \n",
      "607                 0       1.0      337.91  337.91            Corey Ruiz   \n",
      "626                 0       2.0      977.26  488.63         Caitlin Brown   \n",
      "639                 0       2.0      650.02  325.01     Marcus Livingston   \n",
      "665                 0       3.0     1007.52  335.84        Kristen Holder   \n",
      "695                 0       1.0      452.42  452.42          Paul Parsons   \n",
      "722                 0       1.0      374.16  374.16         Hunter Fuller   \n",
      "769                 0       2.0      840.30  420.15         William Adams   \n",
      "787                 0       1.0      147.22  147.22         Austin Miller   \n",
      "800                 0       3.0       80.97   26.99        Jessica Warren   \n",
      "814                 0       4.0     1734.56  433.64          Tiffany Cain   \n",
      "828                 0       4.0       75.28   18.82         Juan Mcdaniel   \n",
      "854                 0       2.0      306.38  153.19         Michael Cowan   \n",
      "880                 0       2.0      606.40  303.20       Matthew Johnson   \n",
      "894                 0       1.0      156.96  156.96        Carol Williams   \n",
      "909                 0       3.0     1038.90  346.30      Alexander Barker   \n",
      "953                 0       4.0      229.20   57.30        Alexander Lowe   \n",
      "954                 0       1.0       41.18   41.18        Alexander Lowe   \n",
      "975                 0       1.0      159.60  159.60            Stacy Cook   \n",
      "995                 0       2.0      293.70  146.85        Andrea Jenkins   \n",
      "\n",
      "            Region SignupDate  Signup_year                  ProductName  \\\n",
      "2    South America 2022-07-10         2022         SoundWave Headphones   \n",
      "23            Asia 2022-08-15         2022     ComfortLiving Headphones   \n",
      "62   South America 2024-05-19         2024          ActiveWear Textbook   \n",
      "91          Europe 2023-01-12         2023   ComfortLiving Mystery Book   \n",
      "94   North America 2024-06-11         2024         SoundWave Headphones   \n",
      "96            Asia 2023-04-17         2023              SoundWave Novel   \n",
      "120  North America 2024-02-05         2024      ComfortLiving Biography   \n",
      "128  North America 2024-05-03         2024         SoundWave Headphones   \n",
      "154  South America 2024-04-11         2024                HomeSense Rug   \n",
      "163  North America 2023-09-27         2023              TechPro T-Shirt   \n",
      "175         Europe 2023-02-04         2023           SoundWave Textbook   \n",
      "249         Europe 2023-12-21         2023                HomeSense Rug   \n",
      "287  North America 2024-04-07         2024                TechPro Novel   \n",
      "321  North America 2023-07-06         2023          BookWorld Biography   \n",
      "323  North America 2023-07-06         2023                HomeSense Rug   \n",
      "336         Europe 2023-12-03         2023     ComfortLiving Smartwatch   \n",
      "342         Europe 2022-03-15         2022           BookWorld Cookbook   \n",
      "377  North America 2022-02-02         2022           BookWorld Wall Art   \n",
      "389  South America 2022-05-13         2022           BookWorld Cookbook   \n",
      "442           Asia 2024-05-29         2024        ActiveWear Smartphone   \n",
      "467  North America 2024-10-21         2024        ActiveWear Smartwatch   \n",
      "477  South America 2023-01-29         2023             SoundWave Jacket   \n",
      "578  North America 2024-09-11         2024           SoundWave Textbook   \n",
      "607  North America 2022-05-06         2022          ActiveWear Wall Art   \n",
      "626  South America 2024-02-20         2024           BookWorld Cookbook   \n",
      "639  South America 2024-04-14         2024           BookWorld Wall Art   \n",
      "665           Asia 2024-03-14         2024                SoundWave Rug   \n",
      "695         Europe 2023-02-23         2023      HomeSense Running Shoes   \n",
      "722  South America 2022-05-16         2022              HomeSense Novel   \n",
      "769  North America 2023-08-19         2023           SoundWave Cookbook   \n",
      "787           Asia 2022-08-06         2022                 TechPro Vase   \n",
      "800           Asia 2022-03-14         2022         ComfortLiving Laptop   \n",
      "814  South America 2023-06-08         2023           TechPro Headphones   \n",
      "828  South America 2022-04-09         2022     ActiveWear Running Shoes   \n",
      "854  South America 2022-12-16         2022       SoundWave Mystery Book   \n",
      "880           Asia 2022-04-16         2022              SoundWave Jeans   \n",
      "894           Asia 2023-11-19         2023          HomeSense Desk Lamp   \n",
      "909  South America 2023-11-16         2023        ActiveWear Smartwatch   \n",
      "953  South America 2024-05-31         2024           SoundWave Cookbook   \n",
      "954  South America 2024-05-31         2024                HomeSense Rug   \n",
      "975  North America 2024-05-04         2024     ComfortLiving Headphones   \n",
      "995         Europe 2022-12-03         2022  BookWorld Bluetooth Speaker   \n",
      "\n",
      "        Category CustomerID_numeric  \n",
      "2    Electronics               0001  \n",
      "23   Electronics               0005  \n",
      "62         Books               0013  \n",
      "91         Books               0019  \n",
      "94   Electronics               0020  \n",
      "96         Books               0021  \n",
      "120        Books               0024  \n",
      "128  Electronics               0026  \n",
      "154   Home Decor               0031  \n",
      "163     Clothing               0034  \n",
      "175        Books               0037  \n",
      "249   Home Decor               0051  \n",
      "287        Books               0059  \n",
      "321        Books               0067  \n",
      "323   Home Decor               0067  \n",
      "336  Electronics               0069  \n",
      "342        Books               0070  \n",
      "377   Home Decor               0079  \n",
      "389        Books               0082  \n",
      "442  Electronics               0092  \n",
      "467  Electronics               0098  \n",
      "477     Clothing               0099  \n",
      "578        Books               0116  \n",
      "607   Home Decor               0122  \n",
      "626        Books               0126  \n",
      "639   Home Decor               0129  \n",
      "665   Home Decor               0136  \n",
      "695     Clothing               0141  \n",
      "722        Books               0147  \n",
      "769        Books               0156  \n",
      "787   Home Decor               0159  \n",
      "800  Electronics               0161  \n",
      "814  Electronics               0163  \n",
      "828     Clothing               0165  \n",
      "854        Books               0171  \n",
      "880     Clothing               0175  \n",
      "894   Home Decor               0178  \n",
      "909  Electronics               0181  \n",
      "953        Books               0190  \n",
      "954   Home Decor               0190  \n",
      "975  Electronics               0194  \n",
      "995  Electronics               0199  \n"
     ]
    }
   ],
   "source": [
    "print(final_df['Transaction_Hour'].isnull().sum()) \n",
    "print(final_df[final_df['Transaction_Hour'] == 0])  "
   ]
  },
  {
   "cell_type": "markdown",
   "id": "2102286d-2690-47af-9dc8-497b2bac629b",
   "metadata": {},
   "source": [
    "## Discover patterns for Unit Price"
   ]
  },
  {
   "cell_type": "code",
   "execution_count": 152,
   "id": "d01f3d4b-5bfb-4ea8-8946-266df080eb21",
   "metadata": {},
   "outputs": [
    {
     "data": {
      "text/plain": [
       "count    1000.00000\n",
       "mean      272.55407\n",
       "std       140.73639\n",
       "min        16.08000\n",
       "25%       147.95000\n",
       "50%       299.93000\n",
       "75%       404.40000\n",
       "max       497.76000\n",
       "Name: Price, dtype: float64"
      ]
     },
     "execution_count": 152,
     "metadata": {},
     "output_type": "execute_result"
    }
   ],
   "source": [
    "final_df.Price.describe()"
   ]
  },
  {
   "cell_type": "code",
   "execution_count": 158,
   "id": "175fafea-4967-45be-82bf-281af1bc5739",
   "metadata": {},
   "outputs": [
    {
     "data": {
      "image/png": "[encoded data removed]",
      "text/plain": [
       "<Figure size 1000x600 with 1 Axes>"
      ]
     },
     "metadata": {},
     "output_type": "display_data"
    }
   ],
   "source": [
    "plt.figure(figsize=(10, 6))\n",
    "sns.boxplot(x=final_df['Price'])\n",
    "plt.xlabel('Price', fontsize=12)\n",
    "plt.show()\n"
   ]
  },
  {
   "cell_type": "markdown",
   "id": "ca5cc60f-80f6-4be4-a8b6-40cdb9d3e469",
   "metadata": {},
   "source": [
    "## Count of Customers who brought lowest price item in the list"
   ]
  },
  {
   "cell_type": "code",
   "execution_count": 167,
   "id": "1889bf71-a5b8-4d39-8cd4-d028d898ede6",
   "metadata": {},
   "outputs": [
    {
     "name": "stdout",
     "output_type": "stream",
     "text": [
      "Number of users who bought the lowest-priced items: 8\n"
     ]
    }
   ],
   "source": [
    "lowest_price = final_df['Price'].min()\n",
    "lowest_items_row =final_df[final_df['Price'] == lowest_price]\n",
    "lowest_items_customers_count = lowest_price_items['CustomerID'].nunique()\n",
    "print(f\"Number of users who bought the lowest-priced items: {lowest_items_customers_count}\")"
   ]
  },
  {
   "cell_type": "markdown",
   "id": "89eec7a3-e792-461b-8f39-02ded13061aa",
   "metadata": {},
   "source": [
    "## Count of Customers who brought highest price item in the list"
   ]
  },
  {
   "cell_type": "code",
   "execution_count": 169,
   "id": "c5e1873f-f3c8-4b62-9198-f0e0f4f099f4",
   "metadata": {},
   "outputs": [
    {
     "name": "stdout",
     "output_type": "stream",
     "text": [
      "Number of users who bought the highest-priced items: 10\n"
     ]
    }
   ],
   "source": [
    "highest_price = final_df['Price'].max()\n",
    "highest_price_items_row = final_df[final_df['Price'] == highest_price]\n",
    "highest_items_customers_count = highest_price_items_row['CustomerID'].nunique()\n",
    "print(f\"Number of users who bought the highest-priced items: {highest_items_customers_count}\")"
   ]
  },
  {
   "cell_type": "markdown",
   "id": "ff7d9bd9-916a-4e4f-a76c-c03b711e0c47",
   "metadata": {},
   "source": [
    "## Top 10 most purchased items"
   ]
  },
  {
   "cell_type": "code",
   "execution_count": 177,
   "id": "fe2f8820-21a7-4f8e-a103-cd7d291240c8",
   "metadata": {},
   "outputs": [
    {
     "name": "stdout",
     "output_type": "stream",
     "text": [
      "   ProductID  TransactionID            ProductName     Category\n",
      "58      P059             19        SoundWave Jeans     Clothing\n",
      "28      P029             17     TechPro Headphones  Electronics\n",
      "61      P062             16        HomeSense Novel        Books\n",
      "78      P079             16         ActiveWear Rug   Home Decor\n",
      "53      P054             16     SoundWave Cookbook        Books\n",
      "60      P061             16    HomeSense Desk Lamp   Home Decor\n",
      "56      P057             15  ActiveWear Smartphone  Electronics\n",
      "47      P048             15       TechPro Cookbook        Books\n",
      "21      P022             15     HomeSense Wall Art   Home Decor\n",
      "48      P049             15       TechPro Textbook        Books\n"
     ]
    }
   ],
   "source": [
    "top_most_purchased_items = final_df.groupby('ProductID')['TransactionID'].count().reset_index() \\\n",
    "    .merge(final_df[['ProductID', 'ProductName','Category']].drop_duplicates(), on='ProductID', how='left') \\\n",
    "    .sort_values('TransactionID', ascending=False).head(10)\n",
    "print(top_most_purchased_items)\n"
   ]
  },
  {
   "cell_type": "code",
   "execution_count": 180,
   "id": "c7a906b0-ffaa-4ad3-92de-39cac4903864",
   "metadata": {},
   "outputs": [
    {
     "name": "stdout",
     "output_type": "stream",
     "text": [
      "   ProductID  TransactionID                  ProductName     Category\n",
      "94      P095              7       BookWorld Cookware Set   Home Decor\n",
      "90      P091              7                HomeSense Rug   Home Decor\n",
      "36      P037              7         SoundWave Smartwatch  Electronics\n",
      "3       P004              7                BookWorld Rug   Home Decor\n",
      "25      P026              7  SoundWave Bluetooth Speaker  Electronics\n",
      "8       P009              7           BookWorld Wall Art   Home Decor\n",
      "17      P018              7   ComfortLiving Mystery Book        Books\n",
      "97      P098              7             SoundWave Laptop  Electronics\n",
      "88      P089              7  HomeSense Bluetooth Speaker  Electronics\n",
      "69      P070              6            HomeSense T-Shirt     Clothing\n",
      "99      P100              6            HomeSense Sweater     Clothing\n",
      "71      P072              6        ActiveWear Headphones  Electronics\n",
      "76      P077              6        ActiveWear Smartwatch  Electronics\n",
      "59      P060              6            HomeSense T-Shirt     Clothing\n",
      "51      P052              5             SoundWave Jacket     Clothing\n",
      "23      P024              5           SoundWave Cookbook        Books\n",
      "13      P014              4            ActiveWear Jacket     Clothing\n",
      "30      P031              4         SoundWave Headphones  Electronics\n",
      "43      P044              4     ActiveWear Running Shoes     Clothing\n",
      "98      P099              4       SoundWave Mystery Book        Books\n"
     ]
    }
   ],
   "source": [
    "end_top_most_purchased_items = final_df.groupby('ProductID')['TransactionID'].count().reset_index() \\\n",
    "    .merge(final_df[['ProductID', 'ProductName','Category']].drop_duplicates(), on='ProductID', how='left') \\\n",
    "    .sort_values('TransactionID', ascending=False).tail(20)\n",
    "print(end_top_most_purchased_items)\n"
   ]
  },
  {
   "cell_type": "code",
   "execution_count": 179,
   "id": "a7913599-1c00-4e86-bd27-1bc03ba224b1",
   "metadata": {},
   "outputs": [
    {
     "name": "stdout",
     "output_type": "stream",
     "text": [
      "['Books', 'Home Decor', 'Electronics', 'Clothing']\n",
      "Categories (4, object): ['Books', 'Clothing', 'Electronics', 'Home Decor']\n"
     ]
    }
   ],
   "source": [
    "print(final_df['Category'].unique())"
   ]
  },
  {
   "cell_type": "markdown",
   "id": "a75d865f-19f5-4825-9dd7-ac2ff8f3d6dd",
   "metadata": {},
   "source": [
    "## Discover patterns for each Region"
   ]
  },
  {
   "cell_type": "code",
   "execution_count": 181,
   "id": "c81b2c0d-0924-4a08-9864-9fb49bd86bf9",
   "metadata": {},
   "outputs": [
    {
     "data": {
      "text/html": [
       "<div>\n",
       "<style scoped>\n",
       "    .dataframe tbody tr th:only-of-type {\n",
       "        vertical-align: middle;\n",
       "    }\n",
       "\n",
       "    .dataframe tbody tr th {\n",
       "        vertical-align: top;\n",
       "    }\n",
       "\n",
       "    .dataframe thead th {\n",
       "        text-align: right;\n",
       "    }\n",
       "</style>\n",
       "<table border=\"1\" class=\"dataframe\">\n",
       "  <thead>\n",
       "    <tr style=\"text-align: right;\">\n",
       "      <th></th>\n",
       "      <th>TransactionID</th>\n",
       "      <th>CustomerID</th>\n",
       "      <th>ProductID</th>\n",
       "      <th>TransactionDate</th>\n",
       "      <th>Transaction_year_month</th>\n",
       "      <th>Transaction_Month</th>\n",
       "      <th>Transaction_Day</th>\n",
       "      <th>Transaction_Hour</th>\n",
       "      <th>Quantity</th>\n",
       "      <th>TotalValue</th>\n",
       "      <th>Price</th>\n",
       "      <th>CustomerName</th>\n",
       "      <th>Region</th>\n",
       "      <th>SignupDate</th>\n",
       "      <th>Signup_year</th>\n",
       "      <th>ProductName</th>\n",
       "      <th>Category</th>\n",
       "      <th>CustomerID_numeric</th>\n",
       "    </tr>\n",
       "  </thead>\n",
       "  <tbody>\n",
       "    <tr>\n",
       "      <th>0</th>\n",
       "      <td>T00015</td>\n",
       "      <td>C0001</td>\n",
       "      <td>P054</td>\n",
       "      <td>2024-01-19 03:12:55</td>\n",
       "      <td>202401</td>\n",
       "      <td>1</td>\n",
       "      <td>5</td>\n",
       "      <td>3</td>\n",
       "      <td>2.0</td>\n",
       "      <td>114.60</td>\n",
       "      <td>57.30</td>\n",
       "      <td>Lawrence Carroll</td>\n",
       "      <td>South America</td>\n",
       "      <td>2022-07-10</td>\n",
       "      <td>2022</td>\n",
       "      <td>SoundWave Cookbook</td>\n",
       "      <td>Books</td>\n",
       "      <td>0001</td>\n",
       "    </tr>\n",
       "    <tr>\n",
       "      <th>1</th>\n",
       "      <td>T00932</td>\n",
       "      <td>C0001</td>\n",
       "      <td>P022</td>\n",
       "      <td>2024-09-17 09:01:18</td>\n",
       "      <td>202409</td>\n",
       "      <td>9</td>\n",
       "      <td>2</td>\n",
       "      <td>9</td>\n",
       "      <td>3.0</td>\n",
       "      <td>412.62</td>\n",
       "      <td>137.54</td>\n",
       "      <td>Lawrence Carroll</td>\n",
       "      <td>South America</td>\n",
       "      <td>2022-07-10</td>\n",
       "      <td>2022</td>\n",
       "      <td>HomeSense Wall Art</td>\n",
       "      <td>Home Decor</td>\n",
       "      <td>0001</td>\n",
       "    </tr>\n",
       "    <tr>\n",
       "      <th>2</th>\n",
       "      <td>T00085</td>\n",
       "      <td>C0001</td>\n",
       "      <td>P096</td>\n",
       "      <td>2024-04-08 00:01:00</td>\n",
       "      <td>202404</td>\n",
       "      <td>4</td>\n",
       "      <td>1</td>\n",
       "      <td>0</td>\n",
       "      <td>2.0</td>\n",
       "      <td>614.94</td>\n",
       "      <td>307.47</td>\n",
       "      <td>Lawrence Carroll</td>\n",
       "      <td>South America</td>\n",
       "      <td>2022-07-10</td>\n",
       "      <td>2022</td>\n",
       "      <td>SoundWave Headphones</td>\n",
       "      <td>Electronics</td>\n",
       "      <td>0001</td>\n",
       "    </tr>\n",
       "    <tr>\n",
       "      <th>3</th>\n",
       "      <td>T00445</td>\n",
       "      <td>C0001</td>\n",
       "      <td>P083</td>\n",
       "      <td>2024-05-07 03:11:44</td>\n",
       "      <td>202405</td>\n",
       "      <td>5</td>\n",
       "      <td>2</td>\n",
       "      <td>3</td>\n",
       "      <td>2.0</td>\n",
       "      <td>911.44</td>\n",
       "      <td>455.72</td>\n",
       "      <td>Lawrence Carroll</td>\n",
       "      <td>South America</td>\n",
       "      <td>2022-07-10</td>\n",
       "      <td>2022</td>\n",
       "      <td>ActiveWear Smartwatch</td>\n",
       "      <td>Electronics</td>\n",
       "      <td>0001</td>\n",
       "    </tr>\n",
       "    <tr>\n",
       "      <th>4</th>\n",
       "      <td>T00436</td>\n",
       "      <td>C0001</td>\n",
       "      <td>P029</td>\n",
       "      <td>2024-11-02 17:04:16</td>\n",
       "      <td>202411</td>\n",
       "      <td>11</td>\n",
       "      <td>6</td>\n",
       "      <td>17</td>\n",
       "      <td>3.0</td>\n",
       "      <td>1300.92</td>\n",
       "      <td>433.64</td>\n",
       "      <td>Lawrence Carroll</td>\n",
       "      <td>South America</td>\n",
       "      <td>2022-07-10</td>\n",
       "      <td>2022</td>\n",
       "      <td>TechPro Headphones</td>\n",
       "      <td>Electronics</td>\n",
       "      <td>0001</td>\n",
       "    </tr>\n",
       "  </tbody>\n",
       "</table>\n",
       "</div>"
      ],
      "text/plain": [
       "  TransactionID CustomerID ProductID     TransactionDate  \\\n",
       "0        T00015      C0001      P054 2024-01-19 03:12:55   \n",
       "1        T00932      C0001      P022 2024-09-17 09:01:18   \n",
       "2        T00085      C0001      P096 2024-04-08 00:01:00   \n",
       "3        T00445      C0001      P083 2024-05-07 03:11:44   \n",
       "4        T00436      C0001      P029 2024-11-02 17:04:16   \n",
       "\n",
       "   Transaction_year_month  Transaction_Month  Transaction_Day  \\\n",
       "0                  202401                  1                5   \n",
       "1                  202409                  9                2   \n",
       "2                  202404                  4                1   \n",
       "3                  202405                  5                2   \n",
       "4                  202411                 11                6   \n",
       "\n",
       "   Transaction_Hour  Quantity  TotalValue   Price      CustomerName  \\\n",
       "0                 3       2.0      114.60   57.30  Lawrence Carroll   \n",
       "1                 9       3.0      412.62  137.54  Lawrence Carroll   \n",
       "2                 0       2.0      614.94  307.47  Lawrence Carroll   \n",
       "3                 3       2.0      911.44  455.72  Lawrence Carroll   \n",
       "4                17       3.0     1300.92  433.64  Lawrence Carroll   \n",
       "\n",
       "          Region SignupDate  Signup_year            ProductName     Category  \\\n",
       "0  South America 2022-07-10         2022     SoundWave Cookbook        Books   \n",
       "1  South America 2022-07-10         2022     HomeSense Wall Art   Home Decor   \n",
       "2  South America 2022-07-10         2022   SoundWave Headphones  Electronics   \n",
       "3  South America 2022-07-10         2022  ActiveWear Smartwatch  Electronics   \n",
       "4  South America 2022-07-10         2022     TechPro Headphones  Electronics   \n",
       "\n",
       "  CustomerID_numeric  \n",
       "0               0001  \n",
       "1               0001  \n",
       "2               0001  \n",
       "3               0001  \n",
       "4               0001  "
      ]
     },
     "execution_count": 181,
     "metadata": {},
     "output_type": "execute_result"
    }
   ],
   "source": [
    "final_df.head()"
   ]
  },
  {
   "cell_type": "markdown",
   "id": "e6717bae-67c8-49e0-adbc-71503b5f401b",
   "metadata": {},
   "source": [
    "## How many orders for each Region?"
   ]
  },
  {
   "cell_type": "code",
   "execution_count": 193,
   "id": "ef52ce16-864b-421a-ab21-b582a6b4b0c6",
   "metadata": {},
   "outputs": [
    {
     "data": {
      "image/png": "[encoded data removed]",
      "text/plain": [
       "<Figure size 800x400 with 1 Axes>"
      ]
     },
     "metadata": {},
     "output_type": "display_data"
    }
   ],
   "source": [
    "group_country_orders = final_df.groupby('Region')['Quantity'].count().sort_values()\n",
    "# plot number of unique customers in each Region\n",
    "plt.subplots(figsize=(8,4))\n",
    "group_country_orders.plot(kind='bar', fontsize=12, color=color[0])\n",
    "plt.ylabel('Number of Orders', fontsize=12)\n",
    "plt.xlabel('Region', fontsize=12)\n",
    "plt.title('Number of Orders for different Region', fontsize=12)\n",
    "plt.show()"
   ]
  },
  {
   "cell_type": "markdown",
   "id": "a4d63a79-f4bb-445f-8df7-fe78381670bc",
   "metadata": {},
   "source": [
    "## How much money spent by each Region?"
   ]
  },
  {
   "cell_type": "code",
   "execution_count": 196,
   "id": "f4ca743a-e735-46a0-ba87-6ffa477411cf",
   "metadata": {},
   "outputs": [
    {
     "data": {
      "image/png": "[encoded data removed]",
      "text/plain": [
       "<Figure size 800x400 with 1 Axes>"
      ]
     },
     "metadata": {},
     "output_type": "display_data"
    }
   ],
   "source": [
    "group_country_amount_spent = final_df.groupby('Region')['TotalValue'].sum().sort_values()\n",
    "# plot number of unique customers in each Region\n",
    "plt.subplots(figsize=(8,4))\n",
    "group_country_amount_spent.plot(kind='bar', fontsize=12, color=color[0])\n",
    "plt.ylabel('Money Spent', fontsize=12)\n",
    "plt.xlabel('Region', fontsize=12)\n",
    "plt.title('Money Spent by different Regions', fontsize=12)\n",
    "plt.show()"
   ]
  },
  {
   "cell_type": "markdown",
   "id": "53214fac-d14f-45de-8617-16d8c71de393",
   "metadata": {},
   "source": [
    "## Count of customers registered per year"
   ]
  },
  {
   "cell_type": "code",
   "execution_count": 198,
   "id": "48fd9c00-8161-4ac0-b811-53c7a320fa26",
   "metadata": {},
   "outputs": [
    {
     "name": "stdout",
     "output_type": "stream",
     "text": [
      "Signup_year\n",
      "2022    64\n",
      "2023    56\n",
      "2024    79\n",
      "Name: CustomerID, dtype: int64\n"
     ]
    }
   ],
   "source": [
    "customer_registration_count = final_df.groupby('Signup_year')['CustomerID'].nunique()\n",
    "print(customer_registration_count)"
   ]
  },
  {
   "cell_type": "code",
   "execution_count": 200,
   "id": "d150a2c3-c9e8-47b1-ab6e-c74a91a4a099",
   "metadata": {},
   "outputs": [
    {
     "data": {
      "image/png": "[encoded data removed]",
      "text/plain": [
       "<Figure size 800x400 with 1 Axes>"
      ]
     },
     "metadata": {},
     "output_type": "display_data"
    }
   ],
   "source": [
    "plt.figure(figsize=(8,4))\n",
    "customer_registration_count.plot(kind='bar', color=color[0])\n",
    "plt.xlabel('Signup Year', fontsize=12)\n",
    "plt.ylabel('Number of Customers', fontsize=12)\n",
    "plt.title('Number of Customers Registered Per Year', fontsize=14)\n",
    "plt.xticks(rotation=0)\n",
    "plt.show()"
   ]
  }
 ],
 "metadata": {
  "kernelspec": {
   "display_name": "Python 3 (ipykernel)",
   "language": "python",
   "name": "python3"
  },
  "language_info": {
   "codemirror_mode": {
    "name": "ipython",
    "version": 3
   },
   "file_extension": ".py",
   "mimetype": "text/x-python",
   "name": "python",
   "nbconvert_exporter": "python",
   "pygments_lexer": "ipython3",
   "version": "3.11.9"
  }
 },
 "nbformat": 4,
 "nbformat_minor": 5
}
