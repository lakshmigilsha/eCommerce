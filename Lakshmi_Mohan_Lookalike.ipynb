{
 "cells": [
  {
   "cell_type": "markdown",
   "id": "574b72d8-dcd9-495a-9da8-eea4f6f35652",
   "metadata": {},
   "source": [
    "# Lookalike Model"
   ]
  },
  {
   "cell_type": "code",
   "execution_count": 1,
   "id": "40a0fb97-ba9e-4da0-8839-6402b1f1d8f7",
   "metadata": {},
   "outputs": [],
   "source": [
    "import numpy as np\n",
    "import pandas as pd\n",
    "import os\n",
    "import pickle\n",
    "from datasketch import MinHash, MinHashLSHForest"
   ]
  },
  {
   "cell_type": "code",
   "execution_count": 2,
   "id": "9b669a31-0bd7-4398-bbdf-44ef2f4cce52",
   "metadata": {},
   "outputs": [],
   "source": [
    "#set the data folder's path\n",
    "data_path=\"data/\""
   ]
  },
  {
   "cell_type": "code",
   "execution_count": 3,
   "id": "fd02e169-634c-42ee-b1f1-b531ad91c43e",
   "metadata": {},
   "outputs": [],
   "source": [
    "Customers_df=pd.read_csv(os.path.join(data_path,\"Customers.csv\"))\n",
    "Products_df=pd.read_csv(os.path.join(data_path,\"Products.csv\"))\n",
    "Transactions_df=pd.read_csv(os.path.join(data_path,\"Transactions.csv\"))"
   ]
  },
  {
   "cell_type": "code",
   "execution_count": 4,
   "id": "a00c80d6-8c08-4218-b4e7-9412e267bd1d",
   "metadata": {},
   "outputs": [
    {
     "data": {
      "text/html": [
       "<div>\n",
       "<style scoped>\n",
       "    .dataframe tbody tr th:only-of-type {\n",
       "        vertical-align: middle;\n",
       "    }\n",
       "\n",
       "    .dataframe tbody tr th {\n",
       "        vertical-align: top;\n",
       "    }\n",
       "\n",
       "    .dataframe thead th {\n",
       "        text-align: right;\n",
       "    }\n",
       "</style>\n",
       "<table border=\"1\" class=\"dataframe\">\n",
       "  <thead>\n",
       "    <tr style=\"text-align: right;\">\n",
       "      <th></th>\n",
       "      <th>CustomerID</th>\n",
       "      <th>CustomerName</th>\n",
       "      <th>Region</th>\n",
       "      <th>SignupDate</th>\n",
       "    </tr>\n",
       "  </thead>\n",
       "  <tbody>\n",
       "    <tr>\n",
       "      <th>0</th>\n",
       "      <td>C0001</td>\n",
       "      <td>Lawrence Carroll</td>\n",
       "      <td>South America</td>\n",
       "      <td>2022-07-10</td>\n",
       "    </tr>\n",
       "    <tr>\n",
       "      <th>1</th>\n",
       "      <td>C0002</td>\n",
       "      <td>Elizabeth Lutz</td>\n",
       "      <td>Asia</td>\n",
       "      <td>2022-02-13</td>\n",
       "    </tr>\n",
       "    <tr>\n",
       "      <th>2</th>\n",
       "      <td>C0003</td>\n",
       "      <td>Michael Rivera</td>\n",
       "      <td>South America</td>\n",
       "      <td>2024-03-07</td>\n",
       "    </tr>\n",
       "    <tr>\n",
       "      <th>3</th>\n",
       "      <td>C0004</td>\n",
       "      <td>Kathleen Rodriguez</td>\n",
       "      <td>South America</td>\n",
       "      <td>2022-10-09</td>\n",
       "    </tr>\n",
       "    <tr>\n",
       "      <th>4</th>\n",
       "      <td>C0005</td>\n",
       "      <td>Laura Weber</td>\n",
       "      <td>Asia</td>\n",
       "      <td>2022-08-15</td>\n",
       "    </tr>\n",
       "  </tbody>\n",
       "</table>\n",
       "</div>"
      ],
      "text/plain": [
       "  CustomerID        CustomerName         Region  SignupDate\n",
       "0      C0001    Lawrence Carroll  South America  2022-07-10\n",
       "1      C0002      Elizabeth Lutz           Asia  2022-02-13\n",
       "2      C0003      Michael Rivera  South America  2024-03-07\n",
       "3      C0004  Kathleen Rodriguez  South America  2022-10-09\n",
       "4      C0005         Laura Weber           Asia  2022-08-15"
      ]
     },
     "execution_count": 4,
     "metadata": {},
     "output_type": "execute_result"
    }
   ],
   "source": [
    "Customers_df.head()"
   ]
  },
  {
   "cell_type": "code",
   "execution_count": 5,
   "id": "cbee7d23-62ba-4c4c-abd9-b70fd60c570e",
   "metadata": {},
   "outputs": [],
   "source": [
    "#merge dataframes\n",
    "Merged=pd.merge(Transactions_df,Customers_df, on=\"CustomerID\")\n",
    "Merged=pd.merge(Merged,Products_df,on=\"ProductID\")\n",
    "Merged.to_csv(\"Merged_data.csv\",index=False)"
   ]
  },
  {
   "cell_type": "markdown",
   "id": "379f4373-a63e-4807-88a1-0698402dad9a",
   "metadata": {},
   "source": [
    "## Data Preprocessing"
   ]
  },
  {
   "cell_type": "code",
   "execution_count": 7,
   "id": "004a201c-8208-49af-8ecd-f0ab321ecd0d",
   "metadata": {},
   "outputs": [],
   "source": [
    "#Relevant features for modeling\n",
    "data = Merged[[\"CustomerID\", \"Region\", \"Category\", \"Quantity\", \"TotalValue\"]].copy()\n",
    "\n",
    "data.loc[:, \"Region\"] = data[\"Region\"].astype(\"category\").cat.codes\n",
    "data.loc[:, \"Category\"] = data[\"Category\"].astype(\"category\").cat.codes\n",
    "\n",
    "# Aggregate data by CustomerID\n",
    "aggregated = data.groupby(\"CustomerID\").agg({\"Region\": \"first\",\"Category\": \"mean\",\"Quantity\": \"sum\",\"TotalValue\": \"sum\"}).reset_index()\n",
    "\n",
    "# Save the aggregated data\n",
    "aggregated.to_csv(\"Final_data.csv\", index=False)\n"
   ]
  },
  {
   "cell_type": "markdown",
   "id": "c72f7575-f6e6-4c30-b910-f47a28ba1a0a",
   "metadata": {},
   "source": [
    "## Train the model"
   ]
  },
  {
   "cell_type": "code",
   "execution_count": 9,
   "id": "ccd8a1a5-d545-4602-97a7-3165d39af2d5",
   "metadata": {},
   "outputs": [],
   "source": [
    "# Initialize MinHashLSHForest\n",
    "lsh = MinHashLSHForest(num_perm=126)\n",
    "\n",
    "def create_minhash(row):\n",
    "    m = MinHash(num_perm=126)\n",
    "    for value in row:\n",
    "        m.update(str(value).encode('utf-8'))\n",
    "    return m\n",
    "\n",
    "aggregated[\"MinHash\"] = aggregated.apply(\n",
    "    lambda row: create_minhash(row[1:].values), axis=1\n",
    ")\n",
    "\n",
    "# Adding CustomersID to LSH forest\n",
    "for idx, (customer_id, minhash) in enumerate(zip(aggregated[\"CustomerID\"], aggregated[\"MinHash\"])):\n",
    "    lsh.add(customer_id, minhash)\n",
    "\n",
    "lsh.index()\n",
    "\n",
    "with open(\"lookalike_model.pkl\", \"wb\") as f:\n",
    "    pickle.dump(lsh, f)\n"
   ]
  },
  {
   "cell_type": "markdown",
   "id": "c598b996-8a32-404f-991d-3d7698c0eae7",
   "metadata": {},
   "source": [
    "## Finding Top 3 similar customers"
   ]
  },
  {
   "cell_type": "code",
   "execution_count": 11,
   "id": "356fda41-f76b-4ce3-bab5-6aa9193de7d1",
   "metadata": {},
   "outputs": [],
   "source": [
    "with open(\"lookalike_model.pkl\", \"rb\") as f:\n",
    "    lsh = pickle.load(f)"
   ]
  },
  {
   "cell_type": "code",
   "execution_count": 12,
   "id": "0c21b4e7-31db-4224-b925-d8badc3fe38d",
   "metadata": {},
   "outputs": [],
   "source": [
    "def fun_lookalikes(customer_id, lsh, top_n=3):\n",
    "    customer_row = aggregated[aggregated[\"CustomerID\"] == customer_id]\n",
    "    if customer_row.empty:\n",
    "        return []\n",
    "    minhash = customer_row[\"MinHash\"].values[0]\n",
    "    return lsh.query(minhash, top_n)"
   ]
  },
  {
   "cell_type": "code",
   "execution_count": 13,
   "id": "1d9cb0c3-23cd-4977-95df-39fe4be5044e",
   "metadata": {},
   "outputs": [],
   "source": [
    "lookalike = {}\n",
    "for customer_id in aggregated[\"CustomerID\"][:20]:\n",
    "    similar_customers = fun_lookalikes(customer_id, lsh, top_n=3)\n",
    "    scores = [1.0 / (i + 1) for i in range(len(similar_customers))] \n",
    "    lookalike[customer_id] = list(zip(similar_customers, scores))"
   ]
  },
  {
   "cell_type": "code",
   "execution_count": 16,
   "id": "f559ea90-c33d-479c-802a-3ff5432db437",
   "metadata": {},
   "outputs": [],
   "source": [
    "output = []\n",
    "for cust_id, similar_list in lookalike.items():\n",
    "    for sim_cust, score in similar_list:\n",
    "        output.append({\"CustomerID\": cust_id, \"SimilarCustomerID\": sim_cust, \"Score\": score})\n",
    "\n",
    "lookalike_df = pd.DataFrame(output)\n",
    "lookalike_df.to_csv(\"Lakshmi_Mohan_Lookalike.csv\", index=False)"
   ]
  }
 ],
 "metadata": {
  "kernelspec": {
   "display_name": "Python 3 (ipykernel)",
   "language": "python",
   "name": "python3"
  },
  "language_info": {
   "codemirror_mode": {
    "name": "ipython",
    "version": 3
   },
   "file_extension": ".py",
   "mimetype": "text/x-python",
   "name": "python",
   "nbconvert_exporter": "python",
   "pygments_lexer": "ipython3",
   "version": "3.11.9"
  }
 },
 "nbformat": 4,
 "nbformat_minor": 5
}
